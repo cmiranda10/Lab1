{
 "cells": [
  {
   "cell_type": "code",
   "execution_count": 42,
   "metadata": {},
   "outputs": [],
   "source": [
    "import numpy as np\n",
    "import pandas as pd"
   ]
  },
  {
   "cell_type": "code",
   "execution_count": 43,
   "metadata": {},
   "outputs": [
    {
     "data": {
      "text/plain": [
       "array([[2.08500e+05, 7.00000e+00, 8.56000e+02, 8.00000e+00, 2.00300e+03,\n",
       "        6.50000e+01],\n",
       "       [1.81500e+05, 6.00000e+00, 1.26200e+03, 6.00000e+00, 1.97600e+03,\n",
       "        8.00000e+01],\n",
       "       [2.23500e+05, 7.00000e+00, 9.20000e+02, 6.00000e+00, 2.00100e+03,\n",
       "        6.80000e+01],\n",
       "       ...,\n",
       "       [2.66500e+05, 7.00000e+00, 1.18800e+03, 9.00000e+00, 1.94100e+03,\n",
       "        6.60000e+01],\n",
       "       [1.42125e+05, 5.00000e+00, 1.07800e+03, 5.00000e+00, 1.95000e+03,\n",
       "        6.80000e+01],\n",
       "       [1.47500e+05, 5.00000e+00, 1.25600e+03, 6.00000e+00, 1.96500e+03,\n",
       "        7.50000e+01]])"
      ]
     },
     "execution_count": 43,
     "metadata": {},
     "output_type": "execute_result"
    }
   ],
   "source": [
    "data = np.load('./Project1/dataproject.npy')\n",
    "data"
   ]
  },
  {
   "cell_type": "code",
   "execution_count": 44,
   "metadata": {},
   "outputs": [
    {
     "data": {
      "text/html": [
       "<div>\n",
       "<style scoped>\n",
       "    .dataframe tbody tr th:only-of-type {\n",
       "        vertical-align: middle;\n",
       "    }\n",
       "\n",
       "    .dataframe tbody tr th {\n",
       "        vertical-align: top;\n",
       "    }\n",
       "\n",
       "    .dataframe thead th {\n",
       "        text-align: right;\n",
       "    }\n",
       "</style>\n",
       "<table border=\"1\" class=\"dataframe\">\n",
       "  <thead>\n",
       "    <tr style=\"text-align: right;\">\n",
       "      <th></th>\n",
       "      <th>0</th>\n",
       "      <th>1</th>\n",
       "      <th>2</th>\n",
       "      <th>3</th>\n",
       "      <th>4</th>\n",
       "      <th>5</th>\n",
       "    </tr>\n",
       "  </thead>\n",
       "  <tbody>\n",
       "    <tr>\n",
       "      <th>0</th>\n",
       "      <td>208500.0</td>\n",
       "      <td>7.0</td>\n",
       "      <td>856.0</td>\n",
       "      <td>8.0</td>\n",
       "      <td>2003.0</td>\n",
       "      <td>65.0</td>\n",
       "    </tr>\n",
       "    <tr>\n",
       "      <th>1</th>\n",
       "      <td>181500.0</td>\n",
       "      <td>6.0</td>\n",
       "      <td>1262.0</td>\n",
       "      <td>6.0</td>\n",
       "      <td>1976.0</td>\n",
       "      <td>80.0</td>\n",
       "    </tr>\n",
       "    <tr>\n",
       "      <th>2</th>\n",
       "      <td>223500.0</td>\n",
       "      <td>7.0</td>\n",
       "      <td>920.0</td>\n",
       "      <td>6.0</td>\n",
       "      <td>2001.0</td>\n",
       "      <td>68.0</td>\n",
       "    </tr>\n",
       "    <tr>\n",
       "      <th>3</th>\n",
       "      <td>140000.0</td>\n",
       "      <td>7.0</td>\n",
       "      <td>961.0</td>\n",
       "      <td>7.0</td>\n",
       "      <td>1915.0</td>\n",
       "      <td>60.0</td>\n",
       "    </tr>\n",
       "    <tr>\n",
       "      <th>4</th>\n",
       "      <td>250000.0</td>\n",
       "      <td>8.0</td>\n",
       "      <td>1145.0</td>\n",
       "      <td>9.0</td>\n",
       "      <td>2000.0</td>\n",
       "      <td>84.0</td>\n",
       "    </tr>\n",
       "    <tr>\n",
       "      <th>...</th>\n",
       "      <td>...</td>\n",
       "      <td>...</td>\n",
       "      <td>...</td>\n",
       "      <td>...</td>\n",
       "      <td>...</td>\n",
       "      <td>...</td>\n",
       "    </tr>\n",
       "    <tr>\n",
       "      <th>1455</th>\n",
       "      <td>175000.0</td>\n",
       "      <td>6.0</td>\n",
       "      <td>953.0</td>\n",
       "      <td>7.0</td>\n",
       "      <td>1999.0</td>\n",
       "      <td>62.0</td>\n",
       "    </tr>\n",
       "    <tr>\n",
       "      <th>1456</th>\n",
       "      <td>210000.0</td>\n",
       "      <td>6.0</td>\n",
       "      <td>2073.0</td>\n",
       "      <td>7.0</td>\n",
       "      <td>1978.0</td>\n",
       "      <td>85.0</td>\n",
       "    </tr>\n",
       "    <tr>\n",
       "      <th>1457</th>\n",
       "      <td>266500.0</td>\n",
       "      <td>7.0</td>\n",
       "      <td>1188.0</td>\n",
       "      <td>9.0</td>\n",
       "      <td>1941.0</td>\n",
       "      <td>66.0</td>\n",
       "    </tr>\n",
       "    <tr>\n",
       "      <th>1458</th>\n",
       "      <td>142125.0</td>\n",
       "      <td>5.0</td>\n",
       "      <td>1078.0</td>\n",
       "      <td>5.0</td>\n",
       "      <td>1950.0</td>\n",
       "      <td>68.0</td>\n",
       "    </tr>\n",
       "    <tr>\n",
       "      <th>1459</th>\n",
       "      <td>147500.0</td>\n",
       "      <td>5.0</td>\n",
       "      <td>1256.0</td>\n",
       "      <td>6.0</td>\n",
       "      <td>1965.0</td>\n",
       "      <td>75.0</td>\n",
       "    </tr>\n",
       "  </tbody>\n",
       "</table>\n",
       "<p>1460 rows × 6 columns</p>\n",
       "</div>"
      ],
      "text/plain": [
       "             0    1       2    3       4     5\n",
       "0     208500.0  7.0   856.0  8.0  2003.0  65.0\n",
       "1     181500.0  6.0  1262.0  6.0  1976.0  80.0\n",
       "2     223500.0  7.0   920.0  6.0  2001.0  68.0\n",
       "3     140000.0  7.0   961.0  7.0  1915.0  60.0\n",
       "4     250000.0  8.0  1145.0  9.0  2000.0  84.0\n",
       "...        ...  ...     ...  ...     ...   ...\n",
       "1455  175000.0  6.0   953.0  7.0  1999.0  62.0\n",
       "1456  210000.0  6.0  2073.0  7.0  1978.0  85.0\n",
       "1457  266500.0  7.0  1188.0  9.0  1941.0  66.0\n",
       "1458  142125.0  5.0  1078.0  5.0  1950.0  68.0\n",
       "1459  147500.0  5.0  1256.0  6.0  1965.0  75.0\n",
       "\n",
       "[1460 rows x 6 columns]"
      ]
     },
     "execution_count": 44,
     "metadata": {},
     "output_type": "execute_result"
    }
   ],
   "source": [
    "df_project_1 = pd.DataFrame(data)\n",
    "df_project_1 \n"
   ]
  },
  {
   "cell_type": "code",
   "execution_count": 45,
   "metadata": {},
   "outputs": [
    {
     "data": {
      "text/html": [
       "<div>\n",
       "<style scoped>\n",
       "    .dataframe tbody tr th:only-of-type {\n",
       "        vertical-align: middle;\n",
       "    }\n",
       "\n",
       "    .dataframe tbody tr th {\n",
       "        vertical-align: top;\n",
       "    }\n",
       "\n",
       "    .dataframe thead th {\n",
       "        text-align: right;\n",
       "    }\n",
       "</style>\n",
       "<table border=\"1\" class=\"dataframe\">\n",
       "  <thead>\n",
       "    <tr style=\"text-align: right;\">\n",
       "      <th></th>\n",
       "      <th>SalePrice</th>\n",
       "      <th>OverallQual</th>\n",
       "      <th>1stFlrSF</th>\n",
       "      <th>TotRmsAbvGrd</th>\n",
       "      <th>YearBuilt</th>\n",
       "      <th>LotFrontage</th>\n",
       "    </tr>\n",
       "  </thead>\n",
       "  <tbody>\n",
       "    <tr>\n",
       "      <th>0</th>\n",
       "      <td>208500.0</td>\n",
       "      <td>7.0</td>\n",
       "      <td>856.0</td>\n",
       "      <td>8.0</td>\n",
       "      <td>2003.0</td>\n",
       "      <td>65.0</td>\n",
       "    </tr>\n",
       "    <tr>\n",
       "      <th>1</th>\n",
       "      <td>181500.0</td>\n",
       "      <td>6.0</td>\n",
       "      <td>1262.0</td>\n",
       "      <td>6.0</td>\n",
       "      <td>1976.0</td>\n",
       "      <td>80.0</td>\n",
       "    </tr>\n",
       "    <tr>\n",
       "      <th>2</th>\n",
       "      <td>223500.0</td>\n",
       "      <td>7.0</td>\n",
       "      <td>920.0</td>\n",
       "      <td>6.0</td>\n",
       "      <td>2001.0</td>\n",
       "      <td>68.0</td>\n",
       "    </tr>\n",
       "    <tr>\n",
       "      <th>3</th>\n",
       "      <td>140000.0</td>\n",
       "      <td>7.0</td>\n",
       "      <td>961.0</td>\n",
       "      <td>7.0</td>\n",
       "      <td>1915.0</td>\n",
       "      <td>60.0</td>\n",
       "    </tr>\n",
       "    <tr>\n",
       "      <th>4</th>\n",
       "      <td>250000.0</td>\n",
       "      <td>8.0</td>\n",
       "      <td>1145.0</td>\n",
       "      <td>9.0</td>\n",
       "      <td>2000.0</td>\n",
       "      <td>84.0</td>\n",
       "    </tr>\n",
       "  </tbody>\n",
       "</table>\n",
       "</div>"
      ],
      "text/plain": [
       "   SalePrice  OverallQual  1stFlrSF  TotRmsAbvGrd  YearBuilt  LotFrontage\n",
       "0   208500.0          7.0     856.0           8.0     2003.0         65.0\n",
       "1   181500.0          6.0    1262.0           6.0     1976.0         80.0\n",
       "2   223500.0          7.0     920.0           6.0     2001.0         68.0\n",
       "3   140000.0          7.0     961.0           7.0     1915.0         60.0\n",
       "4   250000.0          8.0    1145.0           9.0     2000.0         84.0"
      ]
     },
     "execution_count": 45,
     "metadata": {},
     "output_type": "execute_result"
    }
   ],
   "source": [
    "df_project_1  = pd.DataFrame(data,\n",
    "                columns=['SalePrice','OverallQual','1stFlrSF','TotRmsAbvGrd','YearBuilt','LotFrontage'])\n",
    "df_project_1 .head()"
   ]
  },
  {
   "cell_type": "code",
   "execution_count": 46,
   "metadata": {},
   "outputs": [
    {
     "data": {
      "text/html": [
       "<div>\n",
       "<style scoped>\n",
       "    .dataframe tbody tr th:only-of-type {\n",
       "        vertical-align: middle;\n",
       "    }\n",
       "\n",
       "    .dataframe tbody tr th {\n",
       "        vertical-align: top;\n",
       "    }\n",
       "\n",
       "    .dataframe thead th {\n",
       "        text-align: right;\n",
       "    }\n",
       "</style>\n",
       "<table border=\"1\" class=\"dataframe\">\n",
       "  <thead>\n",
       "    <tr style=\"text-align: right;\">\n",
       "      <th></th>\n",
       "      <th>SalePrice</th>\n",
       "      <th>OverallQual</th>\n",
       "      <th>1stFlrSF</th>\n",
       "      <th>TotRmsAbvGrd</th>\n",
       "      <th>YearBuilt</th>\n",
       "      <th>LotFrontage</th>\n",
       "    </tr>\n",
       "  </thead>\n",
       "  <tbody>\n",
       "    <tr>\n",
       "      <th>count</th>\n",
       "      <td>1460.000000</td>\n",
       "      <td>1460.000000</td>\n",
       "      <td>1460.000000</td>\n",
       "      <td>1460.000000</td>\n",
       "      <td>1460.000000</td>\n",
       "      <td>1201.000000</td>\n",
       "    </tr>\n",
       "    <tr>\n",
       "      <th>mean</th>\n",
       "      <td>180921.195890</td>\n",
       "      <td>6.099315</td>\n",
       "      <td>1162.626712</td>\n",
       "      <td>6.517808</td>\n",
       "      <td>1971.267808</td>\n",
       "      <td>70.049958</td>\n",
       "    </tr>\n",
       "    <tr>\n",
       "      <th>std</th>\n",
       "      <td>79442.502883</td>\n",
       "      <td>1.382997</td>\n",
       "      <td>386.587738</td>\n",
       "      <td>1.625393</td>\n",
       "      <td>30.202904</td>\n",
       "      <td>24.284752</td>\n",
       "    </tr>\n",
       "    <tr>\n",
       "      <th>min</th>\n",
       "      <td>34900.000000</td>\n",
       "      <td>1.000000</td>\n",
       "      <td>334.000000</td>\n",
       "      <td>2.000000</td>\n",
       "      <td>1872.000000</td>\n",
       "      <td>21.000000</td>\n",
       "    </tr>\n",
       "    <tr>\n",
       "      <th>25%</th>\n",
       "      <td>129975.000000</td>\n",
       "      <td>5.000000</td>\n",
       "      <td>882.000000</td>\n",
       "      <td>5.000000</td>\n",
       "      <td>1954.000000</td>\n",
       "      <td>59.000000</td>\n",
       "    </tr>\n",
       "    <tr>\n",
       "      <th>50%</th>\n",
       "      <td>163000.000000</td>\n",
       "      <td>6.000000</td>\n",
       "      <td>1087.000000</td>\n",
       "      <td>6.000000</td>\n",
       "      <td>1973.000000</td>\n",
       "      <td>69.000000</td>\n",
       "    </tr>\n",
       "    <tr>\n",
       "      <th>75%</th>\n",
       "      <td>214000.000000</td>\n",
       "      <td>7.000000</td>\n",
       "      <td>1391.250000</td>\n",
       "      <td>7.000000</td>\n",
       "      <td>2000.000000</td>\n",
       "      <td>80.000000</td>\n",
       "    </tr>\n",
       "    <tr>\n",
       "      <th>max</th>\n",
       "      <td>755000.000000</td>\n",
       "      <td>10.000000</td>\n",
       "      <td>4692.000000</td>\n",
       "      <td>14.000000</td>\n",
       "      <td>2010.000000</td>\n",
       "      <td>313.000000</td>\n",
       "    </tr>\n",
       "  </tbody>\n",
       "</table>\n",
       "</div>"
      ],
      "text/plain": [
       "           SalePrice  OverallQual     1stFlrSF  TotRmsAbvGrd    YearBuilt  \\\n",
       "count    1460.000000  1460.000000  1460.000000   1460.000000  1460.000000   \n",
       "mean   180921.195890     6.099315  1162.626712      6.517808  1971.267808   \n",
       "std     79442.502883     1.382997   386.587738      1.625393    30.202904   \n",
       "min     34900.000000     1.000000   334.000000      2.000000  1872.000000   \n",
       "25%    129975.000000     5.000000   882.000000      5.000000  1954.000000   \n",
       "50%    163000.000000     6.000000  1087.000000      6.000000  1973.000000   \n",
       "75%    214000.000000     7.000000  1391.250000      7.000000  2000.000000   \n",
       "max    755000.000000    10.000000  4692.000000     14.000000  2010.000000   \n",
       "\n",
       "       LotFrontage  \n",
       "count  1201.000000  \n",
       "mean     70.049958  \n",
       "std      24.284752  \n",
       "min      21.000000  \n",
       "25%      59.000000  \n",
       "50%      69.000000  \n",
       "75%      80.000000  \n",
       "max     313.000000  "
      ]
     },
     "execution_count": 46,
     "metadata": {},
     "output_type": "execute_result"
    }
   ],
   "source": [
    "df_project_1.describe()"
   ]
  },
  {
   "cell_type": "code",
   "execution_count": 47,
   "metadata": {},
   "outputs": [],
   "source": [
    "def calcCorrCoef(df, target):\n",
    "    for col in df.columns:\n",
    "        print('Correlacion = ' + col + \":\",\n",
    "               df[target].corr(df[col], method='pearson'))\n",
    "        "
   ]
  },
  {
   "cell_type": "code",
   "execution_count": 48,
   "metadata": {},
   "outputs": [
    {
     "name": "stdout",
     "output_type": "stream",
     "text": [
      "Correlacion = SalePrice: 1.0\n",
      "Correlacion = OverallQual: 0.7909816005838048\n",
      "Correlacion = 1stFlrSF: 0.6058521846919147\n",
      "Correlacion = TotRmsAbvGrd: 0.5337231555820284\n",
      "Correlacion = YearBuilt: 0.5228973328794969\n",
      "Correlacion = LotFrontage: 0.3517990965706781\n"
     ]
    }
   ],
   "source": [
    "calcCorrCoef (df_project_1, 'SalePrice')"
   ]
  },
  {
   "cell_type": "code",
   "execution_count": 49,
   "metadata": {},
   "outputs": [
    {
     "data": {
      "text/html": [
       "<div>\n",
       "<style scoped>\n",
       "    .dataframe tbody tr th:only-of-type {\n",
       "        vertical-align: middle;\n",
       "    }\n",
       "\n",
       "    .dataframe tbody tr th {\n",
       "        vertical-align: top;\n",
       "    }\n",
       "\n",
       "    .dataframe thead th {\n",
       "        text-align: right;\n",
       "    }\n",
       "</style>\n",
       "<table border=\"1\" class=\"dataframe\">\n",
       "  <thead>\n",
       "    <tr style=\"text-align: right;\">\n",
       "      <th></th>\n",
       "      <th>SalePrice</th>\n",
       "      <th>OverallQual</th>\n",
       "      <th>1stFlrSF</th>\n",
       "      <th>TotRmsAbvGrd</th>\n",
       "      <th>YearBuilt</th>\n",
       "      <th>LotFrontage</th>\n",
       "    </tr>\n",
       "  </thead>\n",
       "  <tbody>\n",
       "    <tr>\n",
       "      <th>count</th>\n",
       "      <td>1168.000000</td>\n",
       "      <td>1168.000000</td>\n",
       "      <td>1168.000000</td>\n",
       "      <td>1168.000000</td>\n",
       "      <td>1168.000000</td>\n",
       "      <td>962.000000</td>\n",
       "    </tr>\n",
       "    <tr>\n",
       "      <th>mean</th>\n",
       "      <td>180590.277397</td>\n",
       "      <td>6.101027</td>\n",
       "      <td>1156.323630</td>\n",
       "      <td>6.485445</td>\n",
       "      <td>1971.451199</td>\n",
       "      <td>69.946985</td>\n",
       "    </tr>\n",
       "    <tr>\n",
       "      <th>std</th>\n",
       "      <td>78815.697902</td>\n",
       "      <td>1.378025</td>\n",
       "      <td>373.780374</td>\n",
       "      <td>1.609141</td>\n",
       "      <td>29.951707</td>\n",
       "      <td>23.478161</td>\n",
       "    </tr>\n",
       "    <tr>\n",
       "      <th>min</th>\n",
       "      <td>34900.000000</td>\n",
       "      <td>1.000000</td>\n",
       "      <td>334.000000</td>\n",
       "      <td>2.000000</td>\n",
       "      <td>1875.000000</td>\n",
       "      <td>21.000000</td>\n",
       "    </tr>\n",
       "    <tr>\n",
       "      <th>25%</th>\n",
       "      <td>129900.000000</td>\n",
       "      <td>5.000000</td>\n",
       "      <td>882.000000</td>\n",
       "      <td>5.000000</td>\n",
       "      <td>1954.000000</td>\n",
       "      <td>59.000000</td>\n",
       "    </tr>\n",
       "    <tr>\n",
       "      <th>50%</th>\n",
       "      <td>162950.000000</td>\n",
       "      <td>6.000000</td>\n",
       "      <td>1086.000000</td>\n",
       "      <td>6.000000</td>\n",
       "      <td>1973.000000</td>\n",
       "      <td>70.000000</td>\n",
       "    </tr>\n",
       "    <tr>\n",
       "      <th>75%</th>\n",
       "      <td>214000.000000</td>\n",
       "      <td>7.000000</td>\n",
       "      <td>1390.250000</td>\n",
       "      <td>7.000000</td>\n",
       "      <td>2000.000000</td>\n",
       "      <td>80.000000</td>\n",
       "    </tr>\n",
       "    <tr>\n",
       "      <th>max</th>\n",
       "      <td>755000.000000</td>\n",
       "      <td>10.000000</td>\n",
       "      <td>3228.000000</td>\n",
       "      <td>14.000000</td>\n",
       "      <td>2010.000000</td>\n",
       "      <td>313.000000</td>\n",
       "    </tr>\n",
       "  </tbody>\n",
       "</table>\n",
       "</div>"
      ],
      "text/plain": [
       "           SalePrice  OverallQual     1stFlrSF  TotRmsAbvGrd    YearBuilt  \\\n",
       "count    1168.000000  1168.000000  1168.000000   1168.000000  1168.000000   \n",
       "mean   180590.277397     6.101027  1156.323630      6.485445  1971.451199   \n",
       "std     78815.697902     1.378025   373.780374      1.609141    29.951707   \n",
       "min     34900.000000     1.000000   334.000000      2.000000  1875.000000   \n",
       "25%    129900.000000     5.000000   882.000000      5.000000  1954.000000   \n",
       "50%    162950.000000     6.000000  1086.000000      6.000000  1973.000000   \n",
       "75%    214000.000000     7.000000  1390.250000      7.000000  2000.000000   \n",
       "max    755000.000000    10.000000  3228.000000     14.000000  2010.000000   \n",
       "\n",
       "       LotFrontage  \n",
       "count   962.000000  \n",
       "mean     69.946985  \n",
       "std      23.478161  \n",
       "min      21.000000  \n",
       "25%      59.000000  \n",
       "50%      70.000000  \n",
       "75%      80.000000  \n",
       "max     313.000000  "
      ]
     },
     "execution_count": 49,
     "metadata": {},
     "output_type": "execute_result"
    }
   ],
   "source": [
    "Train_set = df_project_1[slice(0,1168,1)]\n",
    "Train_set.describe()"
   ]
  },
  {
   "cell_type": "code",
   "execution_count": 50,
   "metadata": {},
   "outputs": [
    {
     "data": {
      "text/html": [
       "<div>\n",
       "<style scoped>\n",
       "    .dataframe tbody tr th:only-of-type {\n",
       "        vertical-align: middle;\n",
       "    }\n",
       "\n",
       "    .dataframe tbody tr th {\n",
       "        vertical-align: top;\n",
       "    }\n",
       "\n",
       "    .dataframe thead th {\n",
       "        text-align: right;\n",
       "    }\n",
       "</style>\n",
       "<table border=\"1\" class=\"dataframe\">\n",
       "  <thead>\n",
       "    <tr style=\"text-align: right;\">\n",
       "      <th></th>\n",
       "      <th>SalePrice</th>\n",
       "      <th>OverallQual</th>\n",
       "      <th>1stFlrSF</th>\n",
       "      <th>TotRmsAbvGrd</th>\n",
       "      <th>YearBuilt</th>\n",
       "      <th>LotFrontage</th>\n",
       "    </tr>\n",
       "  </thead>\n",
       "  <tbody>\n",
       "    <tr>\n",
       "      <th>count</th>\n",
       "      <td>291.000000</td>\n",
       "      <td>291.000000</td>\n",
       "      <td>291.00000</td>\n",
       "      <td>291.000000</td>\n",
       "      <td>291.000000</td>\n",
       "      <td>238.000000</td>\n",
       "    </tr>\n",
       "    <tr>\n",
       "      <th>mean</th>\n",
       "      <td>182063.580756</td>\n",
       "      <td>6.092784</td>\n",
       "      <td>1187.67354</td>\n",
       "      <td>6.646048</td>\n",
       "      <td>1970.656357</td>\n",
       "      <td>70.256303</td>\n",
       "    </tr>\n",
       "    <tr>\n",
       "      <th>std</th>\n",
       "      <td>82109.582637</td>\n",
       "      <td>1.407486</td>\n",
       "      <td>434.58140</td>\n",
       "      <td>1.688238</td>\n",
       "      <td>31.213262</td>\n",
       "      <td>27.208940</td>\n",
       "    </tr>\n",
       "    <tr>\n",
       "      <th>min</th>\n",
       "      <td>52500.000000</td>\n",
       "      <td>3.000000</td>\n",
       "      <td>483.00000</td>\n",
       "      <td>3.000000</td>\n",
       "      <td>1872.000000</td>\n",
       "      <td>21.000000</td>\n",
       "    </tr>\n",
       "    <tr>\n",
       "      <th>25%</th>\n",
       "      <td>130000.000000</td>\n",
       "      <td>5.000000</td>\n",
       "      <td>880.50000</td>\n",
       "      <td>6.000000</td>\n",
       "      <td>1950.000000</td>\n",
       "      <td>59.250000</td>\n",
       "    </tr>\n",
       "    <tr>\n",
       "      <th>50%</th>\n",
       "      <td>163000.000000</td>\n",
       "      <td>6.000000</td>\n",
       "      <td>1104.00000</td>\n",
       "      <td>6.000000</td>\n",
       "      <td>1972.000000</td>\n",
       "      <td>67.000000</td>\n",
       "    </tr>\n",
       "    <tr>\n",
       "      <th>75%</th>\n",
       "      <td>213500.000000</td>\n",
       "      <td>7.000000</td>\n",
       "      <td>1410.50000</td>\n",
       "      <td>8.000000</td>\n",
       "      <td>2001.000000</td>\n",
       "      <td>80.000000</td>\n",
       "    </tr>\n",
       "    <tr>\n",
       "      <th>max</th>\n",
       "      <td>745000.000000</td>\n",
       "      <td>10.000000</td>\n",
       "      <td>4692.00000</td>\n",
       "      <td>12.000000</td>\n",
       "      <td>2009.000000</td>\n",
       "      <td>313.000000</td>\n",
       "    </tr>\n",
       "  </tbody>\n",
       "</table>\n",
       "</div>"
      ],
      "text/plain": [
       "           SalePrice  OverallQual    1stFlrSF  TotRmsAbvGrd    YearBuilt  \\\n",
       "count     291.000000   291.000000   291.00000    291.000000   291.000000   \n",
       "mean   182063.580756     6.092784  1187.67354      6.646048  1970.656357   \n",
       "std     82109.582637     1.407486   434.58140      1.688238    31.213262   \n",
       "min     52500.000000     3.000000   483.00000      3.000000  1872.000000   \n",
       "25%    130000.000000     5.000000   880.50000      6.000000  1950.000000   \n",
       "50%    163000.000000     6.000000  1104.00000      6.000000  1972.000000   \n",
       "75%    213500.000000     7.000000  1410.50000      8.000000  2001.000000   \n",
       "max    745000.000000    10.000000  4692.00000     12.000000  2009.000000   \n",
       "\n",
       "       LotFrontage  \n",
       "count   238.000000  \n",
       "mean     70.256303  \n",
       "std      27.208940  \n",
       "min      21.000000  \n",
       "25%      59.250000  \n",
       "50%      67.000000  \n",
       "75%      80.000000  \n",
       "max     313.000000  "
      ]
     },
     "execution_count": 50,
     "metadata": {},
     "output_type": "execute_result"
    }
   ],
   "source": [
    "Test_set = df_project_1[slice(1169,1460,1)]\n",
    "Test_set.describe()"
   ]
  },
  {
   "cell_type": "code",
   "execution_count": 51,
   "metadata": {},
   "outputs": [],
   "source": [
    "import matplotlib.pyplot as plt\n",
    "import seaborn as sns"
   ]
  },
  {
   "cell_type": "code",
   "execution_count": 52,
   "metadata": {},
   "outputs": [
    {
     "data": {
      "text/html": [
       "<div>\n",
       "<style scoped>\n",
       "    .dataframe tbody tr th:only-of-type {\n",
       "        vertical-align: middle;\n",
       "    }\n",
       "\n",
       "    .dataframe tbody tr th {\n",
       "        vertical-align: top;\n",
       "    }\n",
       "\n",
       "    .dataframe thead th {\n",
       "        text-align: right;\n",
       "    }\n",
       "</style>\n",
       "<table border=\"1\" class=\"dataframe\">\n",
       "  <thead>\n",
       "    <tr style=\"text-align: right;\">\n",
       "      <th></th>\n",
       "      <th>SalePrice</th>\n",
       "      <th>OverallQual</th>\n",
       "      <th>1stFlrSF</th>\n",
       "      <th>TotRmsAbvGrd</th>\n",
       "      <th>YearBuilt</th>\n",
       "      <th>LotFrontage</th>\n",
       "    </tr>\n",
       "  </thead>\n",
       "  <tbody>\n",
       "    <tr>\n",
       "      <th>0</th>\n",
       "      <td>208500.0</td>\n",
       "      <td>7.0</td>\n",
       "      <td>856.0</td>\n",
       "      <td>8.0</td>\n",
       "      <td>2003.0</td>\n",
       "      <td>65.0</td>\n",
       "    </tr>\n",
       "    <tr>\n",
       "      <th>1</th>\n",
       "      <td>181500.0</td>\n",
       "      <td>6.0</td>\n",
       "      <td>1262.0</td>\n",
       "      <td>6.0</td>\n",
       "      <td>1976.0</td>\n",
       "      <td>80.0</td>\n",
       "    </tr>\n",
       "    <tr>\n",
       "      <th>2</th>\n",
       "      <td>223500.0</td>\n",
       "      <td>7.0</td>\n",
       "      <td>920.0</td>\n",
       "      <td>6.0</td>\n",
       "      <td>2001.0</td>\n",
       "      <td>68.0</td>\n",
       "    </tr>\n",
       "    <tr>\n",
       "      <th>3</th>\n",
       "      <td>140000.0</td>\n",
       "      <td>7.0</td>\n",
       "      <td>961.0</td>\n",
       "      <td>7.0</td>\n",
       "      <td>1915.0</td>\n",
       "      <td>60.0</td>\n",
       "    </tr>\n",
       "    <tr>\n",
       "      <th>4</th>\n",
       "      <td>250000.0</td>\n",
       "      <td>8.0</td>\n",
       "      <td>1145.0</td>\n",
       "      <td>9.0</td>\n",
       "      <td>2000.0</td>\n",
       "      <td>84.0</td>\n",
       "    </tr>\n",
       "    <tr>\n",
       "      <th>...</th>\n",
       "      <td>...</td>\n",
       "      <td>...</td>\n",
       "      <td>...</td>\n",
       "      <td>...</td>\n",
       "      <td>...</td>\n",
       "      <td>...</td>\n",
       "    </tr>\n",
       "    <tr>\n",
       "      <th>1163</th>\n",
       "      <td>108959.0</td>\n",
       "      <td>4.0</td>\n",
       "      <td>1258.0</td>\n",
       "      <td>6.0</td>\n",
       "      <td>1969.0</td>\n",
       "      <td>60.0</td>\n",
       "    </tr>\n",
       "    <tr>\n",
       "      <th>1164</th>\n",
       "      <td>194000.0</td>\n",
       "      <td>5.0</td>\n",
       "      <td>1432.0</td>\n",
       "      <td>5.0</td>\n",
       "      <td>1978.0</td>\n",
       "      <td>NaN</td>\n",
       "    </tr>\n",
       "    <tr>\n",
       "      <th>1165</th>\n",
       "      <td>233170.0</td>\n",
       "      <td>7.0</td>\n",
       "      <td>1502.0</td>\n",
       "      <td>7.0</td>\n",
       "      <td>2009.0</td>\n",
       "      <td>79.0</td>\n",
       "    </tr>\n",
       "    <tr>\n",
       "      <th>1166</th>\n",
       "      <td>245350.0</td>\n",
       "      <td>8.0</td>\n",
       "      <td>1694.0</td>\n",
       "      <td>7.0</td>\n",
       "      <td>2008.0</td>\n",
       "      <td>64.0</td>\n",
       "    </tr>\n",
       "    <tr>\n",
       "      <th>1167</th>\n",
       "      <td>173000.0</td>\n",
       "      <td>6.0</td>\n",
       "      <td>959.0</td>\n",
       "      <td>7.0</td>\n",
       "      <td>2000.0</td>\n",
       "      <td>58.0</td>\n",
       "    </tr>\n",
       "  </tbody>\n",
       "</table>\n",
       "<p>1168 rows × 6 columns</p>\n",
       "</div>"
      ],
      "text/plain": [
       "      SalePrice  OverallQual  1stFlrSF  TotRmsAbvGrd  YearBuilt  LotFrontage\n",
       "0      208500.0          7.0     856.0           8.0     2003.0         65.0\n",
       "1      181500.0          6.0    1262.0           6.0     1976.0         80.0\n",
       "2      223500.0          7.0     920.0           6.0     2001.0         68.0\n",
       "3      140000.0          7.0     961.0           7.0     1915.0         60.0\n",
       "4      250000.0          8.0    1145.0           9.0     2000.0         84.0\n",
       "...         ...          ...       ...           ...        ...          ...\n",
       "1163   108959.0          4.0    1258.0           6.0     1969.0         60.0\n",
       "1164   194000.0          5.0    1432.0           5.0     1978.0          NaN\n",
       "1165   233170.0          7.0    1502.0           7.0     2009.0         79.0\n",
       "1166   245350.0          8.0    1694.0           7.0     2008.0         64.0\n",
       "1167   173000.0          6.0     959.0           7.0     2000.0         58.0\n",
       "\n",
       "[1168 rows x 6 columns]"
      ]
     },
     "execution_count": 52,
     "metadata": {},
     "output_type": "execute_result"
    }
   ],
   "source": [
    "Train_set"
   ]
  },
  {
   "cell_type": "code",
   "execution_count": 78,
   "metadata": {},
   "outputs": [
    {
     "data": {
      "text/plain": [
       "<AxesSubplot:xlabel='OverallQual', ylabel='Count'>"
      ]
     },
     "execution_count": 78,
     "metadata": {},
     "output_type": "execute_result"
    },
    {
     "data": {
      "image/png": "[encoded data removed]",
      "text/plain": [
       "<Figure size 432x288 with 1 Axes>"
      ]
     },
     "metadata": {
      "needs_background": "light"
     },
     "output_type": "display_data"
    }
   ],
   "source": [
    "sns.histplot(x='OverallQual',data=Train_set, kde=True)"
   ]
  },
  {
   "cell_type": "code",
   "execution_count": 79,
   "metadata": {},
   "outputs": [
    {
     "data": {
      "text/plain": [
       "<AxesSubplot:xlabel='1stFlrSF', ylabel='Count'>"
      ]
     },
     "execution_count": 79,
     "metadata": {},
     "output_type": "execute_result"
    },
    {
     "data": {
      "image/png": "[encoded data removed]",
      "text/plain": [
       "<Figure size 432x288 with 1 Axes>"
      ]
     },
     "metadata": {
      "needs_background": "light"
     },
     "output_type": "display_data"
    }
   ],
   "source": [
    "sns.histplot(x='1stFlrSF',data=Train_set,kde=True)"
   ]
  },
  {
   "cell_type": "code",
   "execution_count": 80,
   "metadata": {},
   "outputs": [
    {
     "data": {
      "text/plain": [
       "<AxesSubplot:xlabel='TotRmsAbvGrd', ylabel='Count'>"
      ]
     },
     "execution_count": 80,
     "metadata": {},
     "output_type": "execute_result"
    },
    {
     "data": {
      "image/png": "[encoded data removed]",
      "text/plain": [
       "<Figure size 432x288 with 1 Axes>"
      ]
     },
     "metadata": {
      "needs_background": "light"
     },
     "output_type": "display_data"
    }
   ],
   "source": [
    "sns.histplot(x='TotRmsAbvGrd',data=Train_set,kde=True)"
   ]
  },
  {
   "cell_type": "code",
   "execution_count": 81,
   "metadata": {},
   "outputs": [
    {
     "data": {
      "text/plain": [
       "<AxesSubplot:xlabel='YearBuilt', ylabel='Count'>"
      ]
     },
     "execution_count": 81,
     "metadata": {},
     "output_type": "execute_result"
    },
    {
     "data": {
      "image/png": "[encoded data removed]",
      "text/plain": [
       "<Figure size 432x288 with 1 Axes>"
      ]
     },
     "metadata": {
      "needs_background": "light"
     },
     "output_type": "display_data"
    }
   ],
   "source": [
    "sns.histplot(x='YearBuilt',data=Train_set, kde=True)"
   ]
  },
  {
   "cell_type": "code",
   "execution_count": 82,
   "metadata": {},
   "outputs": [
    {
     "data": {
      "text/plain": [
       "<AxesSubplot:xlabel='LotFrontage', ylabel='Count'>"
      ]
     },
     "execution_count": 82,
     "metadata": {},
     "output_type": "execute_result"
    },
    {
     "data": {
      "image/png": "[encoded data removed]",
      "text/plain": [
       "<Figure size 432x288 with 1 Axes>"
      ]
     },
     "metadata": {
      "needs_background": "light"
     },
     "output_type": "display_data"
    }
   ],
   "source": [
    "sns.histplot(x='LotFrontage',data=Train_set, kde=True)"
   ]
  },
  {
   "cell_type": "code",
   "execution_count": 58,
   "metadata": {},
   "outputs": [
    {
     "data": {
      "text/html": [
       "<div>\n",
       "<style scoped>\n",
       "    .dataframe tbody tr th:only-of-type {\n",
       "        vertical-align: middle;\n",
       "    }\n",
       "\n",
       "    .dataframe tbody tr th {\n",
       "        vertical-align: top;\n",
       "    }\n",
       "\n",
       "    .dataframe thead th {\n",
       "        text-align: right;\n",
       "    }\n",
       "</style>\n",
       "<table border=\"1\" class=\"dataframe\">\n",
       "  <thead>\n",
       "    <tr style=\"text-align: right;\">\n",
       "      <th></th>\n",
       "      <th>SalePrice</th>\n",
       "      <th>OverallQual</th>\n",
       "      <th>1stFlrSF</th>\n",
       "      <th>TotRmsAbvGrd</th>\n",
       "      <th>YearBuilt</th>\n",
       "      <th>LotFrontage</th>\n",
       "    </tr>\n",
       "  </thead>\n",
       "  <tbody>\n",
       "    <tr>\n",
       "      <th>SalePrice</th>\n",
       "      <td>1.000000</td>\n",
       "      <td>0.793990</td>\n",
       "      <td>0.616289</td>\n",
       "      <td>0.564707</td>\n",
       "      <td>0.534171</td>\n",
       "      <td>0.363292</td>\n",
       "    </tr>\n",
       "    <tr>\n",
       "      <th>OverallQual</th>\n",
       "      <td>0.793990</td>\n",
       "      <td>1.000000</td>\n",
       "      <td>0.469411</td>\n",
       "      <td>0.444293</td>\n",
       "      <td>0.567313</td>\n",
       "      <td>0.242420</td>\n",
       "    </tr>\n",
       "    <tr>\n",
       "      <th>1stFlrSF</th>\n",
       "      <td>0.616289</td>\n",
       "      <td>0.469411</td>\n",
       "      <td>1.000000</td>\n",
       "      <td>0.409318</td>\n",
       "      <td>0.292074</td>\n",
       "      <td>0.417388</td>\n",
       "    </tr>\n",
       "    <tr>\n",
       "      <th>TotRmsAbvGrd</th>\n",
       "      <td>0.564707</td>\n",
       "      <td>0.444293</td>\n",
       "      <td>0.409318</td>\n",
       "      <td>1.000000</td>\n",
       "      <td>0.122911</td>\n",
       "      <td>0.341005</td>\n",
       "    </tr>\n",
       "    <tr>\n",
       "      <th>YearBuilt</th>\n",
       "      <td>0.534171</td>\n",
       "      <td>0.567313</td>\n",
       "      <td>0.292074</td>\n",
       "      <td>0.122911</td>\n",
       "      <td>1.000000</td>\n",
       "      <td>0.121474</td>\n",
       "    </tr>\n",
       "    <tr>\n",
       "      <th>LotFrontage</th>\n",
       "      <td>0.363292</td>\n",
       "      <td>0.242420</td>\n",
       "      <td>0.417388</td>\n",
       "      <td>0.341005</td>\n",
       "      <td>0.121474</td>\n",
       "      <td>1.000000</td>\n",
       "    </tr>\n",
       "  </tbody>\n",
       "</table>\n",
       "</div>"
      ],
      "text/plain": [
       "              SalePrice  OverallQual  1stFlrSF  TotRmsAbvGrd  YearBuilt  \\\n",
       "SalePrice      1.000000     0.793990  0.616289      0.564707   0.534171   \n",
       "OverallQual    0.793990     1.000000  0.469411      0.444293   0.567313   \n",
       "1stFlrSF       0.616289     0.469411  1.000000      0.409318   0.292074   \n",
       "TotRmsAbvGrd   0.564707     0.444293  0.409318      1.000000   0.122911   \n",
       "YearBuilt      0.534171     0.567313  0.292074      0.122911   1.000000   \n",
       "LotFrontage    0.363292     0.242420  0.417388      0.341005   0.121474   \n",
       "\n",
       "              LotFrontage  \n",
       "SalePrice        0.363292  \n",
       "OverallQual      0.242420  \n",
       "1stFlrSF         0.417388  \n",
       "TotRmsAbvGrd     0.341005  \n",
       "YearBuilt        0.121474  \n",
       "LotFrontage      1.000000  "
      ]
     },
     "execution_count": 58,
     "metadata": {},
     "output_type": "execute_result"
    }
   ],
   "source": [
    "corr = Train_set.corr()\n",
    "corr"
   ]
  },
  {
   "cell_type": "code",
   "execution_count": 59,
   "metadata": {},
   "outputs": [
    {
     "data": {
      "text/plain": [
       "<AxesSubplot:>"
      ]
     },
     "execution_count": 59,
     "metadata": {},
     "output_type": "execute_result"
    },
    {
     "data": {
      "image/png": "[encoded data removed]",
      "text/plain": [
       "<Figure size 432x288 with 2 Axes>"
      ]
     },
     "metadata": {
      "needs_background": "light"
     },
     "output_type": "display_data"
    }
   ],
   "source": [
    "sns.heatmap(corr, xticklabels = corr.columns.values, yticklabels = corr.columns.values)"
   ]
  },
  {
   "cell_type": "code",
   "execution_count": 68,
   "metadata": {},
   "outputs": [
    {
     "data": {
      "image/png": "[encoded data removed]",
      "text/plain": [
       "<Figure size 432x288 with 1 Axes>"
      ]
     },
     "metadata": {
      "needs_background": "light"
     },
     "output_type": "display_data"
    }
   ],
   "source": [
    "plt.scatter(Train_set['OverallQual'],Train_set['SalePrice'])\n",
    "plt.xlabel('OverallQual')\n",
    "plt.ylabel('SalePrice')\n",
    "plt.title ('OverallQual = Coef Correl 0.793990')\n",
    "plt.show()"
   ]
  },
  {
   "cell_type": "code",
   "execution_count": 69,
   "metadata": {},
   "outputs": [
    {
     "data": {
      "image/png": "[encoded data removed]",
      "text/plain": [
       "<Figure size 432x288 with 1 Axes>"
      ]
     },
     "metadata": {
      "needs_background": "light"
     },
     "output_type": "display_data"
    }
   ],
   "source": [
    "plt.scatter(Train_set['1stFlrSF'],Train_set['SalePrice'])\n",
    "plt.xlabel('1stFlrSF')\n",
    "plt.ylabel('SalePrice')\n",
    "plt.title ('1stFlrSF = Coef Correl 0.616289')\n",
    "plt.show()"
   ]
  },
  {
   "cell_type": "code",
   "execution_count": 70,
   "metadata": {},
   "outputs": [
    {
     "name": "stderr",
     "output_type": "stream",
     "text": [
      "c:\\Users\\Usuario\\anaconda3\\lib\\site-packages\\matplotlib\\backends\\backend_agg.py:240: RuntimeWarning: Glyph 9 missing from current font.\n",
      "  font.set_text(s, 0.0, flags=flags)\n",
      "c:\\Users\\Usuario\\anaconda3\\lib\\site-packages\\matplotlib\\backends\\backend_agg.py:203: RuntimeWarning: Glyph 9 missing from current font.\n",
      "  font.set_text(s, 0, flags=flags)\n"
     ]
    },
    {
     "data": {
      "image/png": "[encoded data removed]",
      "text/plain": [
       "<Figure size 432x288 with 1 Axes>"
      ]
     },
     "metadata": {
      "needs_background": "light"
     },
     "output_type": "display_data"
    }
   ],
   "source": [
    "plt.scatter(Train_set['TotRmsAbvGrd'],Train_set['SalePrice'])\n",
    "plt.xlabel('TotRmsAbvGrd')\n",
    "plt.ylabel('SalePrice')\n",
    "plt.title ('TotRmsAbvGrd = Coef Correl \t0.564707')\n",
    "plt.show()"
   ]
  },
  {
   "cell_type": "code",
   "execution_count": 71,
   "metadata": {},
   "outputs": [
    {
     "data": {
      "image/png": "[encoded data removed]",
      "text/plain": [
       "<Figure size 432x288 with 1 Axes>"
      ]
     },
     "metadata": {
      "needs_background": "light"
     },
     "output_type": "display_data"
    }
   ],
   "source": [
    "plt.scatter(Train_set['YearBuilt'],Train_set['SalePrice'])\n",
    "plt.xlabel('YearBuilt')\n",
    "plt.ylabel('SalePrice')\n",
    "plt.title ('YearBuilt = Coef Correl 0.534171')\n",
    "plt.show()"
   ]
  },
  {
   "cell_type": "code",
   "execution_count": 72,
   "metadata": {},
   "outputs": [
    {
     "data": {
      "image/png": "[encoded data removed]",
      "text/plain": [
       "<Figure size 432x288 with 1 Axes>"
      ]
     },
     "metadata": {
      "needs_background": "light"
     },
     "output_type": "display_data"
    }
   ],
   "source": [
    "plt.scatter(Train_set['LotFrontage'],Train_set['SalePrice'])\n",
    "plt.xlabel('LotFrontage')\n",
    "plt.ylabel('SalePrice')\n",
    "plt.title ('LotFrontage = Coef Correl\t0.363292')\n",
    "plt.show()"
   ]
  },
  {
   "cell_type": "code",
   "execution_count": 84,
   "metadata": {},
   "outputs": [],
   "source": [
    "from sklearn.linear_model import LinearRegression"
   ]
  },
  {
   "cell_type": "code",
   "execution_count": 95,
   "metadata": {},
   "outputs": [
    {
     "name": "stdout",
     "output_type": "stream",
     "text": [
      "-96469.57131873982 [45411.99877916]\n"
     ]
    }
   ],
   "source": [
    "Linreg = LinearRegression()\n",
    "Linreg.fit(Train_set[['OverallQual']],Train_set['SalePrice'])\n",
    "print(Linreg.intercept_,Linreg.coef_)"
   ]
  },
  {
   "cell_type": "markdown",
   "metadata": {},
   "source": [
    "Algebra\n",
    "* y = mx + b\n",
    "* b = intercept = -96469.57\n",
    "Estimated Coefficients\n",
    "Linreg.coef_ = [45411.99] "
   ]
  },
  {
   "cell_type": "code",
   "execution_count": 96,
   "metadata": {},
   "outputs": [
    {
     "name": "stdout",
     "output_type": "stream",
     "text": [
      "0.6304202002336672\n"
     ]
    }
   ],
   "source": [
    "print(Linreg.score(Train_set[['OverallQual']],Train_set['SalePrice']))"
   ]
  },
  {
   "cell_type": "code",
   "execution_count": 213,
   "metadata": {},
   "outputs": [
    {
     "name": "stdout",
     "output_type": "stream",
     "text": [
      "{0: [190071.62780821917, 28894.444383561644]}\n",
      "error 38819444106.44349\n",
      "{0: [190071.62780821917, 28894.444383561644], 1: [-837754.6584589041, -132375.3782020548]}\n",
      "error 1057933863681.2902\n",
      "{0: [190071.62780821917, 28894.444383561644], 1: [-837754.6584589041, -132375.3782020548], 2: [4725192.861695205, 735485.4336986301]}\n",
      "error 30903365065374.23\n",
      "{0: [190071.62780821917, 28894.444383561644], 1: [-837754.6584589041, -132375.3782020548], 2: [4725192.861695205, 735485.4336986301], 3: [-25378514.220633563, -3965862.8567123283]}\n",
      "error 904940200265909.4\n",
      "{0: [190071.62780821917, 28894.444383561644], 1: [-837754.6584589041, -132375.3782020548], 2: [4725192.861695205, 735485.4336986301], 3: [-25378514.220633563, -3965862.8567123283], 4: [137531526.36073628, 21471170.605205476]}\n",
      "error 2.6501493557627012e+16\n",
      "{0: [190071.62780821917, 28894.444383561644], 1: [-837754.6584589041, -132375.3782020548], 2: [4725192.861695205, 735485.4336986301], 3: [-25378514.220633563, -3965862.8567123283], 4: [137531526.36073628, 21471170.605205476], 5: [-744072081.3981678, -116188695.03863013]}\n",
      "error 7.761078082781682e+17\n",
      "{0: [190071.62780821917, 28894.444383561644], 1: [-837754.6584589041, -132375.3782020548], 2: [4725192.861695205, 735485.4336986301], 3: [-25378514.220633563, -3965862.8567123283], 4: [137531526.36073628, 21471170.605205476], 5: [-744072081.3981678, -116188695.03863013], 6: [4026816729.587038, 628767026.5613699]}\n",
      "error 2.2728657836434686e+19\n",
      "{0: [190071.62780821917, 28894.444383561644], 1: [-837754.6584589041, -132375.3782020548], 2: [4725192.861695205, 735485.4336986301], 3: [-25378514.220633563, -3965862.8567123283], 4: [137531526.36073628, 21471170.605205476], 5: [-744072081.3981678, -116188695.03863013], 6: [4026816729.587038, 628767026.5613699], 7: [-21791336596.948853, -3402641941.9602737]}\n",
      "error 6.656187952982878e+20\n",
      "{0: [190071.62780821917, 28894.444383561644], 1: [-837754.6584589041, -132375.3782020548], 2: [4725192.861695205, 735485.4336986301], 3: [-25378514.220633563, -3965862.8567123283], 4: [137531526.36073628, 21471170.605205476], 5: [-744072081.3981678, -116188695.03863013], 6: [4026816729.587038, 628767026.5613699], 7: [-21791336596.948853, -3402641941.9602737], 8: [117926249524.20401, 18413736632.242466]}\n",
      "error 1.9492940977144525e+22\n",
      "{0: [190071.62780821917, 28894.444383561644], 1: [-837754.6584589041, -132375.3782020548], 2: [4725192.861695205, 735485.4336986301], 3: [-25378514.220633563, -3965862.8567123283], 4: [137531526.36073628, 21471170.605205476], 5: [-744072081.3981678, -116188695.03863013], 6: [4026816729.587038, 628767026.5613699], 7: [-21791336596.948853, -3402641941.9602737], 8: [117926249524.20401, 18413736632.242466], 9: [-638169761971.5286, -99647832032.09506]}\n",
      "error 5.708593396346396e+23\n",
      "{0: [190071.62780821917, 28894.444383561644], 1: [-837754.6584589041, -132375.3782020548], 2: [4725192.861695205, 735485.4336986301], 3: [-25378514.220633563, -3965862.8567123283], 4: [137531526.36073628, 21471170.605205476], 5: [-744072081.3981678, -116188695.03863013], 6: [4026816729.587038, 628767026.5613699], 7: [-21791336596.948853, -3402641941.9602737], 8: [117926249524.20401, 18413736632.242466], 9: [-638169761971.5286, -99647832032.09506], 10: [3453521310774.448, 539254438244.21826]}\n",
      "error 1.6717867672291553e+25\n",
      "{0: [190071.62780821917, 28894.444383561644], 1: [-837754.6584589041, -132375.3782020548], 2: [4725192.861695205, 735485.4336986301], 3: [-25378514.220633563, -3965862.8567123283], 4: [137531526.36073628, 21471170.605205476], 5: [-744072081.3981678, -116188695.03863013], 6: [4026816729.587038, 628767026.5613699], 7: [-21791336596.948853, -3402641941.9602737], 8: [117926249524.20401, 18413736632.242466], 9: [-638169761971.5286, -99647832032.09506], 10: [3453521310774.448, 539254438244.21826], 11: [-18689085024098.867, -2918230865242.835]}\n",
      "error 4.895901855990679e+26\n",
      "{0: [190071.62780821917, 28894.444383561644], 1: [-837754.6584589041, -132375.3782020548], 2: [4725192.861695205, 735485.4336986301], 3: [-25378514.220633563, -3965862.8567123283], 4: [137531526.36073628, 21471170.605205476], 5: [-744072081.3981678, -116188695.03863013], 6: [4026816729.587038, 628767026.5613699], 7: [-21791336596.948853, -3402641941.9602737], 8: [117926249524.20401, 18413736632.242466], 9: [-638169761971.5286, -99647832032.09506], 10: [3453521310774.448, 539254438244.21826], 11: [-18689085024098.867, -2918230865242.835], 12: [101137894448850.16, 15792304463872.48]}\n",
      "error 1.433786366645373e+28\n",
      "{0: [190071.62780821917, 28894.444383561644], 1: [-837754.6584589041, -132375.3782020548], 2: [4725192.861695205, 735485.4336986301], 3: [-25378514.220633563, -3965862.8567123283], 4: [137531526.36073628, 21471170.605205476], 5: [-744072081.3981678, -116188695.03863013], 6: [4026816729.587038, 628767026.5613699], 7: [-21791336596.948853, -3402641941.9602737], 8: [117926249524.20401, 18413736632.242466], 9: [-638169761971.5286, -99647832032.09506], 10: [3453521310774.448, 539254438244.21826], 11: [-18689085024098.867, -2918230865242.835], 12: [101137894448850.16, 15792304463872.48], 13: [-547318121866334.75, -85461680461366.78]}\n",
      "error 4.1989071303634896e+29\n",
      "{0: [190071.62780821917, 28894.444383561644], 1: [-837754.6584589041, -132375.3782020548], 2: [4725192.861695205, 735485.4336986301], 3: [-25378514.220633563, -3965862.8567123283], 4: [137531526.36073628, 21471170.605205476], 5: [-744072081.3981678, -116188695.03863013], 6: [4026816729.587038, 628767026.5613699], 7: [-21791336596.948853, -3402641941.9602737], 8: [117926249524.20401, 18413736632.242466], 9: [-638169761971.5286, -99647832032.09506], 10: [3453521310774.448, 539254438244.21826], 11: [-18689085024098.867, -2918230865242.835], 12: [101137894448850.16, 15792304463872.48], 13: [-547318121866334.75, -85461680461366.78], 14: [2961868150044878.0, 462484649602774.0]}\n",
      "error 1.2296685452711681e+31\n",
      "{0: [190071.62780821917, 28894.444383561644], 1: [-837754.6584589041, -132375.3782020548], 2: [4725192.861695205, 735485.4336986301], 3: [-25378514.220633563, -3965862.8567123283], 4: [137531526.36073628, 21471170.605205476], 5: [-744072081.3981678, -116188695.03863013], 6: [4026816729.587038, 628767026.5613699], 7: [-21791336596.948853, -3402641941.9602737], 8: [117926249524.20401, 18413736632.242466], 9: [-638169761971.5286, -99647832032.09506], 10: [3453521310774.448, 539254438244.21826], 11: [-18689085024098.867, -2918230865242.835], 12: [101137894448850.16, 15792304463872.48], 13: [-547318121866334.75, -85461680461366.78], 14: [2961868150044878.0, 462484649602774.0], 15: [-1.6028453393164194e+16, -2502783120903340.5]}\n",
      "error 3.601138735748771e+32\n",
      "{0: [190071.62780821917, 28894.444383561644], 1: [-837754.6584589041, -132375.3782020548], 2: [4725192.861695205, 735485.4336986301], 3: [-25378514.220633563, -3965862.8567123283], 4: [137531526.36073628, 21471170.605205476], 5: [-744072081.3981678, -116188695.03863013], 6: [4026816729.587038, 628767026.5613699], 7: [-21791336596.948853, -3402641941.9602737], 8: [117926249524.20401, 18413736632.242466], 9: [-638169761971.5286, -99647832032.09506], 10: [3453521310774.448, 539254438244.21826], 11: [-18689085024098.867, -2918230865242.835], 12: [101137894448850.16, 15792304463872.48], 13: [-547318121866334.75, -85461680461366.78], 14: [2961868150044878.0, 462484649602774.0], 15: [-1.6028453393164194e+16, -2502783120903340.5], 16: [8.673961301570699e+16, 1.3544066720503632e+16]}\n",
      "error 1.0546092898231546e+34\n",
      "{0: [190071.62780821917, 28894.444383561644], 1: [-837754.6584589041, -132375.3782020548], 2: [4725192.861695205, 735485.4336986301], 3: [-25378514.220633563, -3965862.8567123283], 4: [137531526.36073628, 21471170.605205476], 5: [-744072081.3981678, -116188695.03863013], 6: [4026816729.587038, 628767026.5613699], 7: [-21791336596.948853, -3402641941.9602737], 8: [117926249524.20401, 18413736632.242466], 9: [-638169761971.5286, -99647832032.09506], 10: [3453521310774.448, 539254438244.21826], 11: [-18689085024098.867, -2918230865242.835], 12: [101137894448850.16, 15792304463872.48], 13: [-547318121866334.75, -85461680461366.78], 14: [2961868150044878.0, 462484649602774.0], 15: [-1.6028453393164194e+16, -2502783120903340.5], 16: [8.673961301570699e+16, 1.3544066720503632e+16], 17: [-4.694003007836285e+17, -7.329510287240702e+16]}\n",
      "error 3.0884696741754473e+35\n",
      "{0: [190071.62780821917, 28894.444383561644], 1: [-837754.6584589041, -132375.3782020548], 2: [4725192.861695205, 735485.4336986301], 3: [-25378514.220633563, -3965862.8567123283], 4: [137531526.36073628, 21471170.605205476], 5: [-744072081.3981678, -116188695.03863013], 6: [4026816729.587038, 628767026.5613699], 7: [-21791336596.948853, -3402641941.9602737], 8: [117926249524.20401, 18413736632.242466], 9: [-638169761971.5286, -99647832032.09506], 10: [3453521310774.448, 539254438244.21826], 11: [-18689085024098.867, -2918230865242.835], 12: [101137894448850.16, 15792304463872.48], 13: [-547318121866334.75, -85461680461366.78], 14: [2961868150044878.0, 462484649602774.0], 15: [-1.6028453393164194e+16, -2502783120903340.5], 16: [8.673961301570699e+16, 1.3544066720503632e+16], 17: [-4.694003007836285e+17, -7.329510287240702e+16], 18: [2.540207858200412e+18, 3.966439770429271e+17]}\n",
      "error 9.044720323149033e+36\n",
      "{0: [190071.62780821917, 28894.444383561644], 1: [-837754.6584589041, -132375.3782020548], 2: [4725192.861695205, 735485.4336986301], 3: [-25378514.220633563, -3965862.8567123283], 4: [137531526.36073628, 21471170.605205476], 5: [-744072081.3981678, -116188695.03863013], 6: [4026816729.587038, 628767026.5613699], 7: [-21791336596.948853, -3402641941.9602737], 8: [117926249524.20401, 18413736632.242466], 9: [-638169761971.5286, -99647832032.09506], 10: [3453521310774.448, 539254438244.21826], 11: [-18689085024098.867, -2918230865242.835], 12: [101137894448850.16, 15792304463872.48], 13: [-547318121866334.75, -85461680461366.78], 14: [2961868150044878.0, 462484649602774.0], 15: [-1.6028453393164194e+16, -2502783120903340.5], 16: [8.673961301570699e+16, 1.3544066720503632e+16], 17: [-4.694003007836285e+17, -7.329510287240702e+16], 18: [2.540207858200412e+18, 3.966439770429271e+17], 19: [-1.3746595071094684e+19, -2.1464794814330604e+18]}\n",
      "error 2.648786186668349e+38\n",
      "{0: [190071.62780821917, 28894.444383561644], 1: [-837754.6584589041, -132375.3782020548], 2: [4725192.861695205, 735485.4336986301], 3: [-25378514.220633563, -3965862.8567123283], 4: [137531526.36073628, 21471170.605205476], 5: [-744072081.3981678, -116188695.03863013], 6: [4026816729.587038, 628767026.5613699], 7: [-21791336596.948853, -3402641941.9602737], 8: [117926249524.20401, 18413736632.242466], 9: [-638169761971.5286, -99647832032.09506], 10: [3453521310774.448, 539254438244.21826], 11: [-18689085024098.867, -2918230865242.835], 12: [101137894448850.16, 15792304463872.48], 13: [-547318121866334.75, -85461680461366.78], 14: [2961868150044878.0, 462484649602774.0], 15: [-1.6028453393164194e+16, -2502783120903340.5], 16: [8.673961301570699e+16, 1.3544066720503632e+16], 17: [-4.694003007836285e+17, -7.329510287240702e+16], 18: [2.540207858200412e+18, 3.966439770429271e+17], 19: [-1.3746595071094684e+19, -2.1464794814330604e+18], 20: [7.439110184031715e+19, 1.1615892858640597e+19]}\n",
      "error 7.757086278259964e+39\n",
      "{0: [190071.62780821917, 28894.444383561644], 1: [-837754.6584589041, -132375.3782020548], 2: [4725192.861695205, 735485.4336986301], 3: [-25378514.220633563, -3965862.8567123283], 4: [137531526.36073628, 21471170.605205476], 5: [-744072081.3981678, -116188695.03863013], 6: [4026816729.587038, 628767026.5613699], 7: [-21791336596.948853, -3402641941.9602737], 8: [117926249524.20401, 18413736632.242466], 9: [-638169761971.5286, -99647832032.09506], 10: [3453521310774.448, 539254438244.21826], 11: [-18689085024098.867, -2918230865242.835], 12: [101137894448850.16, 15792304463872.48], 13: [-547318121866334.75, -85461680461366.78], 14: [2961868150044878.0, 462484649602774.0], 15: [-1.6028453393164194e+16, -2502783120903340.5], 16: [8.673961301570699e+16, 1.3544066720503632e+16], 17: [-4.694003007836285e+17, -7.329510287240702e+16], 18: [2.540207858200412e+18, 3.966439770429271e+17], 19: [-1.3746595071094684e+19, -2.1464794814330604e+18], 20: [7.439110184031715e+19, 1.1615892858640597e+19], 21: [-4.025750816590561e+20, -6.286059618854904e+19]}\n",
      "error 2.2716970120704538e+41\n",
      "{0: [190071.62780821917, 28894.444383561644], 1: [-837754.6584589041, -132375.3782020548], 2: [4725192.861695205, 735485.4336986301], 3: [-25378514.220633563, -3965862.8567123283], 4: [137531526.36073628, 21471170.605205476], 5: [-744072081.3981678, -116188695.03863013], 6: [4026816729.587038, 628767026.5613699], 7: [-21791336596.948853, -3402641941.9602737], 8: [117926249524.20401, 18413736632.242466], 9: [-638169761971.5286, -99647832032.09506], 10: [3453521310774.448, 539254438244.21826], 11: [-18689085024098.867, -2918230865242.835], 12: [101137894448850.16, 15792304463872.48], 13: [-547318121866334.75, -85461680461366.78], 14: [2961868150044878.0, 462484649602774.0], 15: [-1.6028453393164194e+16, -2502783120903340.5], 16: [8.673961301570699e+16, 1.3544066720503632e+16], 17: [-4.694003007836285e+17, -7.329510287240702e+16], 18: [2.540207858200412e+18, 3.966439770429271e+17], 19: [-1.3746595071094684e+19, -2.1464794814330604e+18], 20: [7.439110184031715e+19, 1.1615892858640597e+19], 21: [-4.025750816590561e+20, -6.286059618854904e+19], 22: [2.1785763847923292e+21, 3.401765610758452e+20]}\n",
      "error 6.652765182141856e+42\n",
      "{0: [190071.62780821917, 28894.444383561644], 1: [-837754.6584589041, -132375.3782020548], 2: [4725192.861695205, 735485.4336986301], 3: [-25378514.220633563, -3965862.8567123283], 4: [137531526.36073628, 21471170.605205476], 5: [-744072081.3981678, -116188695.03863013], 6: [4026816729.587038, 628767026.5613699], 7: [-21791336596.948853, -3402641941.9602737], 8: [117926249524.20401, 18413736632.242466], 9: [-638169761971.5286, -99647832032.09506], 10: [3453521310774.448, 539254438244.21826], 11: [-18689085024098.867, -2918230865242.835], 12: [101137894448850.16, 15792304463872.48], 13: [-547318121866334.75, -85461680461366.78], 14: [2961868150044878.0, 462484649602774.0], 15: [-1.6028453393164194e+16, -2502783120903340.5], 16: [8.673961301570699e+16, 1.3544066720503632e+16], 17: [-4.694003007836285e+17, -7.329510287240702e+16], 18: [2.540207858200412e+18, 3.966439770429271e+17], 19: [-1.3746595071094684e+19, -2.1464794814330604e+18], 20: [7.439110184031715e+19, 1.1615892858640597e+19], 21: [-4.025750816590561e+20, -6.286059618854904e+19], 22: [2.1785763847923292e+21, 3.401765610758452e+20], 23: [-1.178958882736772e+22, -1.8409002484988038e+21]}\n",
      "error 1.9482915247440915e+44\n",
      "{0: [190071.62780821917, 28894.444383561644], 1: [-837754.6584589041, -132375.3782020548], 2: [4725192.861695205, 735485.4336986301], 3: [-25378514.220633563, -3965862.8567123283], 4: [137531526.36073628, 21471170.605205476], 5: [-744072081.3981678, -116188695.03863013], 6: [4026816729.587038, 628767026.5613699], 7: [-21791336596.948853, -3402641941.9602737], 8: [117926249524.20401, 18413736632.242466], 9: [-638169761971.5286, -99647832032.09506], 10: [3453521310774.448, 539254438244.21826], 11: [-18689085024098.867, -2918230865242.835], 12: [101137894448850.16, 15792304463872.48], 13: [-547318121866334.75, -85461680461366.78], 14: [2961868150044878.0, 462484649602774.0], 15: [-1.6028453393164194e+16, -2502783120903340.5], 16: [8.673961301570699e+16, 1.3544066720503632e+16], 17: [-4.694003007836285e+17, -7.329510287240702e+16], 18: [2.540207858200412e+18, 3.966439770429271e+17], 19: [-1.3746595071094684e+19, -2.1464794814330604e+18], 20: [7.439110184031715e+19, 1.1615892858640597e+19], 21: [-4.025750816590561e+20, -6.286059618854904e+19], 22: [2.1785763847923292e+21, 3.401765610758452e+20], 23: [-1.178958882736772e+22, -1.8409002484988038e+21], 24: [6.380056565050023e+22, 9.962220074980587e+21]}\n",
      "error 5.7056573629836465e+45\n",
      "{0: [190071.62780821917, 28894.444383561644], 1: [-837754.6584589041, -132375.3782020548], 2: [4725192.861695205, 735485.4336986301], 3: [-25378514.220633563, -3965862.8567123283], 4: [137531526.36073628, 21471170.605205476], 5: [-744072081.3981678, -116188695.03863013], 6: [4026816729.587038, 628767026.5613699], 7: [-21791336596.948853, -3402641941.9602737], 8: [117926249524.20401, 18413736632.242466], 9: [-638169761971.5286, -99647832032.09506], 10: [3453521310774.448, 539254438244.21826], 11: [-18689085024098.867, -2918230865242.835], 12: [101137894448850.16, 15792304463872.48], 13: [-547318121866334.75, -85461680461366.78], 14: [2961868150044878.0, 462484649602774.0], 15: [-1.6028453393164194e+16, -2502783120903340.5], 16: [8.673961301570699e+16, 1.3544066720503632e+16], 17: [-4.694003007836285e+17, -7.329510287240702e+16], 18: [2.540207858200412e+18, 3.966439770429271e+17], 19: [-1.3746595071094684e+19, -2.1464794814330604e+18], 20: [7.439110184031715e+19, 1.1615892858640597e+19], 21: [-4.025750816590561e+20, -6.286059618854904e+19], 22: [2.1785763847923292e+21, 3.401765610758452e+20], 23: [-1.178958882736772e+22, -1.8409002484988038e+21], 24: [6.380056565050023e+22, 9.962220074980587e+21], 25: [-3.4526328737909925e+23, -5.39115726722243e+22]}\n",
      "error 1.6709268133340134e+47\n",
      "{0: [190071.62780821917, 28894.444383561644], 1: [-837754.6584589041, -132375.3782020548], 2: [4725192.861695205, 735485.4336986301], 3: [-25378514.220633563, -3965862.8567123283], 4: [137531526.36073628, 21471170.605205476], 5: [-744072081.3981678, -116188695.03863013], 6: [4026816729.587038, 628767026.5613699], 7: [-21791336596.948853, -3402641941.9602737], 8: [117926249524.20401, 18413736632.242466], 9: [-638169761971.5286, -99647832032.09506], 10: [3453521310774.448, 539254438244.21826], 11: [-18689085024098.867, -2918230865242.835], 12: [101137894448850.16, 15792304463872.48], 13: [-547318121866334.75, -85461680461366.78], 14: [2961868150044878.0, 462484649602774.0], 15: [-1.6028453393164194e+16, -2502783120903340.5], 16: [8.673961301570699e+16, 1.3544066720503632e+16], 17: [-4.694003007836285e+17, -7.329510287240702e+16], 18: [2.540207858200412e+18, 3.966439770429271e+17], 19: [-1.3746595071094684e+19, -2.1464794814330604e+18], 20: [7.439110184031715e+19, 1.1615892858640597e+19], 21: [-4.025750816590561e+20, -6.286059618854904e+19], 22: [2.1785763847923292e+21, 3.401765610758452e+20], 23: [-1.178958882736772e+22, -1.8409002484988038e+21], 24: [6.380056565050023e+22, 9.962220074980587e+21], 25: [-3.4526328737909925e+23, -5.39115726722243e+22], 26: [1.8684276236889902e+24, 2.9174799983239075e+23]}\n",
      "error 4.89338281266066e+48\n",
      "{0: [190071.62780821917, 28894.444383561644], 1: [-837754.6584589041, -132375.3782020548], 2: [4725192.861695205, 735485.4336986301], 3: [-25378514.220633563, -3965862.8567123283], 4: [137531526.36073628, 21471170.605205476], 5: [-744072081.3981678, -116188695.03863013], 6: [4026816729.587038, 628767026.5613699], 7: [-21791336596.948853, -3402641941.9602737], 8: [117926249524.20401, 18413736632.242466], 9: [-638169761971.5286, -99647832032.09506], 10: [3453521310774.448, 539254438244.21826], 11: [-18689085024098.867, -2918230865242.835], 12: [101137894448850.16, 15792304463872.48], 13: [-547318121866334.75, -85461680461366.78], 14: [2961868150044878.0, 462484649602774.0], 15: [-1.6028453393164194e+16, -2502783120903340.5], 16: [8.673961301570699e+16, 1.3544066720503632e+16], 17: [-4.694003007836285e+17, -7.329510287240702e+16], 18: [2.540207858200412e+18, 3.966439770429271e+17], 19: [-1.3746595071094684e+19, -2.1464794814330604e+18], 20: [7.439110184031715e+19, 1.1615892858640597e+19], 21: [-4.025750816590561e+20, -6.286059618854904e+19], 22: [2.1785763847923292e+21, 3.401765610758452e+20], 23: [-1.178958882736772e+22, -1.8409002484988038e+21], 24: [6.380056565050023e+22, 9.962220074980587e+21], 25: [-3.4526328737909925e+23, -5.39115726722243e+22], 26: [1.8684276236889902e+24, 2.9174799983239075e+23], 27: [-1.0111187222147521e+25, -1.5788241555035913e+24]}\n",
      "error 1.4330486958096535e+50\n",
      "{0: [190071.62780821917, 28894.444383561644], 1: [-837754.6584589041, -132375.3782020548], 2: [4725192.861695205, 735485.4336986301], 3: [-25378514.220633563, -3965862.8567123283], 4: [137531526.36073628, 21471170.605205476], 5: [-744072081.3981678, -116188695.03863013], 6: [4026816729.587038, 628767026.5613699], 7: [-21791336596.948853, -3402641941.9602737], 8: [117926249524.20401, 18413736632.242466], 9: [-638169761971.5286, -99647832032.09506], 10: [3453521310774.448, 539254438244.21826], 11: [-18689085024098.867, -2918230865242.835], 12: [101137894448850.16, 15792304463872.48], 13: [-547318121866334.75, -85461680461366.78], 14: [2961868150044878.0, 462484649602774.0], 15: [-1.6028453393164194e+16, -2502783120903340.5], 16: [8.673961301570699e+16, 1.3544066720503632e+16], 17: [-4.694003007836285e+17, -7.329510287240702e+16], 18: [2.540207858200412e+18, 3.966439770429271e+17], 19: [-1.3746595071094684e+19, -2.1464794814330604e+18], 20: [7.439110184031715e+19, 1.1615892858640597e+19], 21: [-4.025750816590561e+20, -6.286059618854904e+19], 22: [2.1785763847923292e+21, 3.401765610758452e+20], 23: [-1.178958882736772e+22, -1.8409002484988038e+21], 24: [6.380056565050023e+22, 9.962220074980587e+21], 25: [-3.4526328737909925e+23, -5.39115726722243e+22], 26: [1.8684276236889902e+24, 2.9174799983239075e+23], 27: [-1.0111187222147521e+25, -1.5788241555035913e+24], 28: [5.471772634412223e+25, 8.543968662023526e+24]}\n",
      "error 4.19674625140584e+51\n",
      "{0: [190071.62780821917, 28894.444383561644], 1: [-837754.6584589041, -132375.3782020548], 2: [4725192.861695205, 735485.4336986301], 3: [-25378514.220633563, -3965862.8567123283], 4: [137531526.36073628, 21471170.605205476], 5: [-744072081.3981678, -116188695.03863013], 6: [4026816729.587038, 628767026.5613699], 7: [-21791336596.948853, -3402641941.9602737], 8: [117926249524.20401, 18413736632.242466], 9: [-638169761971.5286, -99647832032.09506], 10: [3453521310774.448, 539254438244.21826], 11: [-18689085024098.867, -2918230865242.835], 12: [101137894448850.16, 15792304463872.48], 13: [-547318121866334.75, -85461680461366.78], 14: [2961868150044878.0, 462484649602774.0], 15: [-1.6028453393164194e+16, -2502783120903340.5], 16: [8.673961301570699e+16, 1.3544066720503632e+16], 17: [-4.694003007836285e+17, -7.329510287240702e+16], 18: [2.540207858200412e+18, 3.966439770429271e+17], 19: [-1.3746595071094684e+19, -2.1464794814330604e+18], 20: [7.439110184031715e+19, 1.1615892858640597e+19], 21: [-4.025750816590561e+20, -6.286059618854904e+19], 22: [2.1785763847923292e+21, 3.401765610758452e+20], 23: [-1.178958882736772e+22, -1.8409002484988038e+21], 24: [6.380056565050023e+22, 9.962220074980587e+21], 25: [-3.4526328737909925e+23, -5.39115726722243e+22], 26: [1.8684276236889902e+24, 2.9174799983239075e+23], 27: [-1.0111187222147521e+25, -1.5788241555035913e+24], 28: [5.471772634412223e+25, 8.543968662023526e+24], 29: [-2.961105990675826e+26, -4.6236564419325195e+25]}\n",
      "error 1.2290357880187859e+53\n",
      "{0: [190071.62780821917, 28894.444383561644], 1: [-837754.6584589041, -132375.3782020548], 2: [4725192.861695205, 735485.4336986301], 3: [-25378514.220633563, -3965862.8567123283], 4: [137531526.36073628, 21471170.605205476], 5: [-744072081.3981678, -116188695.03863013], 6: [4026816729.587038, 628767026.5613699], 7: [-21791336596.948853, -3402641941.9602737], 8: [117926249524.20401, 18413736632.242466], 9: [-638169761971.5286, -99647832032.09506], 10: [3453521310774.448, 539254438244.21826], 11: [-18689085024098.867, -2918230865242.835], 12: [101137894448850.16, 15792304463872.48], 13: [-547318121866334.75, -85461680461366.78], 14: [2961868150044878.0, 462484649602774.0], 15: [-1.6028453393164194e+16, -2502783120903340.5], 16: [8.673961301570699e+16, 1.3544066720503632e+16], 17: [-4.694003007836285e+17, -7.329510287240702e+16], 18: [2.540207858200412e+18, 3.966439770429271e+17], 19: [-1.3746595071094684e+19, -2.1464794814330604e+18], 20: [7.439110184031715e+19, 1.1615892858640597e+19], 21: [-4.025750816590561e+20, -6.286059618854904e+19], 22: [2.1785763847923292e+21, 3.401765610758452e+20], 23: [-1.178958882736772e+22, -1.8409002484988038e+21], 24: [6.380056565050023e+22, 9.962220074980587e+21], 25: [-3.4526328737909925e+23, -5.39115726722243e+22], 26: [1.8684276236889902e+24, 2.9174799983239075e+23], 27: [-1.0111187222147521e+25, -1.5788241555035913e+24], 28: [5.471772634412223e+25, 8.543968662023526e+24], 29: [-2.961105990675826e+26, -4.6236564419325195e+25], 30: [1.6024328738807596e+27, 2.502139097525517e+26]}\n",
      "error 3.599285659277222e+54\n",
      "{0: [190071.62780821917, 28894.444383561644], 1: [-837754.6584589041, -132375.3782020548], 2: [4725192.861695205, 735485.4336986301], 3: [-25378514.220633563, -3965862.8567123283], 4: [137531526.36073628, 21471170.605205476], 5: [-744072081.3981678, -116188695.03863013], 6: [4026816729.587038, 628767026.5613699], 7: [-21791336596.948853, -3402641941.9602737], 8: [117926249524.20401, 18413736632.242466], 9: [-638169761971.5286, -99647832032.09506], 10: [3453521310774.448, 539254438244.21826], 11: [-18689085024098.867, -2918230865242.835], 12: [101137894448850.16, 15792304463872.48], 13: [-547318121866334.75, -85461680461366.78], 14: [2961868150044878.0, 462484649602774.0], 15: [-1.6028453393164194e+16, -2502783120903340.5], 16: [8.673961301570699e+16, 1.3544066720503632e+16], 17: [-4.694003007836285e+17, -7.329510287240702e+16], 18: [2.540207858200412e+18, 3.966439770429271e+17], 19: [-1.3746595071094684e+19, -2.1464794814330604e+18], 20: [7.439110184031715e+19, 1.1615892858640597e+19], 21: [-4.025750816590561e+20, -6.286059618854904e+19], 22: [2.1785763847923292e+21, 3.401765610758452e+20], 23: [-1.178958882736772e+22, -1.8409002484988038e+21], 24: [6.380056565050023e+22, 9.962220074980587e+21], 25: [-3.4526328737909925e+23, -5.39115726722243e+22], 26: [1.8684276236889902e+24, 2.9174799983239075e+23], 27: [-1.0111187222147521e+25, -1.5788241555035913e+24], 28: [5.471772634412223e+25, 8.543968662023526e+24], 29: [-2.961105990675826e+26, -4.6236564419325195e+25], 30: [1.6024328738807596e+27, 2.502139097525517e+26], 31: [-8.671729859529375e+27, -1.3540582442321554e+27]}\n",
      "error 1.0540667262900243e+56\n",
      "{0: [190071.62780821917, 28894.444383561644], 1: [-837754.6584589041, -132375.3782020548], 2: [4725192.861695205, 735485.4336986301], 3: [-25378514.220633563, -3965862.8567123283], 4: [137531526.36073628, 21471170.605205476], 5: [-744072081.3981678, -116188695.03863013], 6: [4026816729.587038, 628767026.5613699], 7: [-21791336596.948853, -3402641941.9602737], 8: [117926249524.20401, 18413736632.242466], 9: [-638169761971.5286, -99647832032.09506], 10: [3453521310774.448, 539254438244.21826], 11: [-18689085024098.867, -2918230865242.835], 12: [101137894448850.16, 15792304463872.48], 13: [-547318121866334.75, -85461680461366.78], 14: [2961868150044878.0, 462484649602774.0], 15: [-1.6028453393164194e+16, -2502783120903340.5], 16: [8.673961301570699e+16, 1.3544066720503632e+16], 17: [-4.694003007836285e+17, -7.329510287240702e+16], 18: [2.540207858200412e+18, 3.966439770429271e+17], 19: [-1.3746595071094684e+19, -2.1464794814330604e+18], 20: [7.439110184031715e+19, 1.1615892858640597e+19], 21: [-4.025750816590561e+20, -6.286059618854904e+19], 22: [2.1785763847923292e+21, 3.401765610758452e+20], 23: [-1.178958882736772e+22, -1.8409002484988038e+21], 24: [6.380056565050023e+22, 9.962220074980587e+21], 25: [-3.4526328737909925e+23, -5.39115726722243e+22], 26: [1.8684276236889902e+24, 2.9174799983239075e+23], 27: [-1.0111187222147521e+25, -1.5788241555035913e+24], 28: [5.471772634412223e+25, 8.543968662023526e+24], 29: [-2.961105990675826e+26, -4.6236564419325195e+25], 30: [1.6024328738807596e+27, 2.502139097525517e+26], 31: [-8.671729859529375e+27, -1.3540582442321554e+27], 32: [4.692795597346483e+28, 7.327625094758045e+27]}\n",
      "error 3.0868810839034877e+57\n",
      "{0: [190071.62780821917, 28894.444383561644], 1: [-837754.6584589041, -132375.3782020548], 2: [4725192.861695205, 735485.4336986301], 3: [-25378514.220633563, -3965862.8567123283], 4: [137531526.36073628, 21471170.605205476], 5: [-744072081.3981678, -116188695.03863013], 6: [4026816729.587038, 628767026.5613699], 7: [-21791336596.948853, -3402641941.9602737], 8: [117926249524.20401, 18413736632.242466], 9: [-638169761971.5286, -99647832032.09506], 10: [3453521310774.448, 539254438244.21826], 11: [-18689085024098.867, -2918230865242.835], 12: [101137894448850.16, 15792304463872.48], 13: [-547318121866334.75, -85461680461366.78], 14: [2961868150044878.0, 462484649602774.0], 15: [-1.6028453393164194e+16, -2502783120903340.5], 16: [8.673961301570699e+16, 1.3544066720503632e+16], 17: [-4.694003007836285e+17, -7.329510287240702e+16], 18: [2.540207858200412e+18, 3.966439770429271e+17], 19: [-1.3746595071094684e+19, -2.1464794814330604e+18], 20: [7.439110184031715e+19, 1.1615892858640597e+19], 21: [-4.025750816590561e+20, -6.286059618854904e+19], 22: [2.1785763847923292e+21, 3.401765610758452e+20], 23: [-1.178958882736772e+22, -1.8409002484988038e+21], 24: [6.380056565050023e+22, 9.962220074980587e+21], 25: [-3.4526328737909925e+23, -5.39115726722243e+22], 26: [1.8684276236889902e+24, 2.9174799983239075e+23], 27: [-1.0111187222147521e+25, -1.5788241555035913e+24], 28: [5.471772634412223e+25, 8.543968662023526e+24], 29: [-2.961105990675826e+26, -4.6236564419325195e+25], 30: [1.6024328738807596e+27, 2.502139097525517e+26], 31: [-8.671729859529375e+27, -1.3540582442321554e+27], 32: [4.692795597346483e+28, 7.327625094758045e+27], 33: [-2.5395544353330172e+29, -3.965419330345591e+28]}\n",
      "error 9.040067333509932e+58\n",
      "{0: [190071.62780821917, 28894.444383561644], 1: [-837754.6584589041, -132375.3782020548], 2: [4725192.861695205, 735485.4336986301], 3: [-25378514.220633563, -3965862.8567123283], 4: [137531526.36073628, 21471170.605205476], 5: [-744072081.3981678, -116188695.03863013], 6: [4026816729.587038, 628767026.5613699], 7: [-21791336596.948853, -3402641941.9602737], 8: [117926249524.20401, 18413736632.242466], 9: [-638169761971.5286, -99647832032.09506], 10: [3453521310774.448, 539254438244.21826], 11: [-18689085024098.867, -2918230865242.835], 12: [101137894448850.16, 15792304463872.48], 13: [-547318121866334.75, -85461680461366.78], 14: [2961868150044878.0, 462484649602774.0], 15: [-1.6028453393164194e+16, -2502783120903340.5], 16: [8.673961301570699e+16, 1.3544066720503632e+16], 17: [-4.694003007836285e+17, -7.329510287240702e+16], 18: [2.540207858200412e+18, 3.966439770429271e+17], 19: [-1.3746595071094684e+19, -2.1464794814330604e+18], 20: [7.439110184031715e+19, 1.1615892858640597e+19], 21: [-4.025750816590561e+20, -6.286059618854904e+19], 22: [2.1785763847923292e+21, 3.401765610758452e+20], 23: [-1.178958882736772e+22, -1.8409002484988038e+21], 24: [6.380056565050023e+22, 9.962220074980587e+21], 25: [-3.4526328737909925e+23, -5.39115726722243e+22], 26: [1.8684276236889902e+24, 2.9174799983239075e+23], 27: [-1.0111187222147521e+25, -1.5788241555035913e+24], 28: [5.471772634412223e+25, 8.543968662023526e+24], 29: [-2.961105990675826e+26, -4.6236564419325195e+25], 30: [1.6024328738807596e+27, 2.502139097525517e+26], 31: [-8.671729859529375e+27, -1.3540582442321554e+27], 32: [4.692795597346483e+28, 7.327625094758045e+27], 33: [-2.5395544353330172e+29, -3.965419330345591e+28], 34: [1.3743058527183093e+30, 2.1459272780551152e+29]}\n",
      "error 2.6474235095412555e+60\n",
      "{0: [190071.62780821917, 28894.444383561644], 1: [-837754.6584589041, -132375.3782020548], 2: [4725192.861695205, 735485.4336986301], 3: [-25378514.220633563, -3965862.8567123283], 4: [137531526.36073628, 21471170.605205476], 5: [-744072081.3981678, -116188695.03863013], 6: [4026816729.587038, 628767026.5613699], 7: [-21791336596.948853, -3402641941.9602737], 8: [117926249524.20401, 18413736632.242466], 9: [-638169761971.5286, -99647832032.09506], 10: [3453521310774.448, 539254438244.21826], 11: [-18689085024098.867, -2918230865242.835], 12: [101137894448850.16, 15792304463872.48], 13: [-547318121866334.75, -85461680461366.78], 14: [2961868150044878.0, 462484649602774.0], 15: [-1.6028453393164194e+16, -2502783120903340.5], 16: [8.673961301570699e+16, 1.3544066720503632e+16], 17: [-4.694003007836285e+17, -7.329510287240702e+16], 18: [2.540207858200412e+18, 3.966439770429271e+17], 19: [-1.3746595071094684e+19, -2.1464794814330604e+18], 20: [7.439110184031715e+19, 1.1615892858640597e+19], 21: [-4.025750816590561e+20, -6.286059618854904e+19], 22: [2.1785763847923292e+21, 3.401765610758452e+20], 23: [-1.178958882736772e+22, -1.8409002484988038e+21], 24: [6.380056565050023e+22, 9.962220074980587e+21], 25: [-3.4526328737909925e+23, -5.39115726722243e+22], 26: [1.8684276236889902e+24, 2.9174799983239075e+23], 27: [-1.0111187222147521e+25, -1.5788241555035913e+24], 28: [5.471772634412223e+25, 8.543968662023526e+24], 29: [-2.961105990675826e+26, -4.6236564419325195e+25], 30: [1.6024328738807596e+27, 2.502139097525517e+26], 31: [-8.671729859529375e+27, -1.3540582442321554e+27], 32: [4.692795597346483e+28, 7.327625094758045e+27], 33: [-2.5395544353330172e+29, -3.965419330345591e+28], 34: [1.3743058527183093e+30, 2.1459272780551152e+29], 35: [-7.437196877908883e+30, -1.1612905171656736e+30]}\n",
      "error 7.753096356720604e+61\n",
      "{0: [190071.62780821917, 28894.444383561644], 1: [-837754.6584589041, -132375.3782020548], 2: [4725192.861695205, 735485.4336986301], 3: [-25378514.220633563, -3965862.8567123283], 4: [137531526.36073628, 21471170.605205476], 5: [-744072081.3981678, -116188695.03863013], 6: [4026816729.587038, 628767026.5613699], 7: [-21791336596.948853, -3402641941.9602737], 8: [117926249524.20401, 18413736632.242466], 9: [-638169761971.5286, -99647832032.09506], 10: [3453521310774.448, 539254438244.21826], 11: [-18689085024098.867, -2918230865242.835], 12: [101137894448850.16, 15792304463872.48], 13: [-547318121866334.75, -85461680461366.78], 14: [2961868150044878.0, 462484649602774.0], 15: [-1.6028453393164194e+16, -2502783120903340.5], 16: [8.673961301570699e+16, 1.3544066720503632e+16], 17: [-4.694003007836285e+17, -7.329510287240702e+16], 18: [2.540207858200412e+18, 3.966439770429271e+17], 19: [-1.3746595071094684e+19, -2.1464794814330604e+18], 20: [7.439110184031715e+19, 1.1615892858640597e+19], 21: [-4.025750816590561e+20, -6.286059618854904e+19], 22: [2.1785763847923292e+21, 3.401765610758452e+20], 23: [-1.178958882736772e+22, -1.8409002484988038e+21], 24: [6.380056565050023e+22, 9.962220074980587e+21], 25: [-3.4526328737909925e+23, -5.39115726722243e+22], 26: [1.8684276236889902e+24, 2.9174799983239075e+23], 27: [-1.0111187222147521e+25, -1.5788241555035913e+24], 28: [5.471772634412223e+25, 8.543968662023526e+24], 29: [-2.961105990675826e+26, -4.6236564419325195e+25], 30: [1.6024328738807596e+27, 2.502139097525517e+26], 31: [-8.671729859529375e+27, -1.3540582442321554e+27], 32: [4.692795597346483e+28, 7.327625094758045e+27], 33: [-2.5395544353330172e+29, -3.965419330345591e+28], 34: [1.3743058527183093e+30, 2.1459272780551152e+29], 35: [-7.437196877908883e+30, -1.1612905171656736e+30], 36: [4.0247151925418725e+31, 6.284442477356413e+30]}\n",
      "error 2.2705283842178653e+63\n",
      "{0: [190071.62780821917, 28894.444383561644], 1: [-837754.6584589041, -132375.3782020548], 2: [4725192.861695205, 735485.4336986301], 3: [-25378514.220633563, -3965862.8567123283], 4: [137531526.36073628, 21471170.605205476], 5: [-744072081.3981678, -116188695.03863013], 6: [4026816729.587038, 628767026.5613699], 7: [-21791336596.948853, -3402641941.9602737], 8: [117926249524.20401, 18413736632.242466], 9: [-638169761971.5286, -99647832032.09506], 10: [3453521310774.448, 539254438244.21826], 11: [-18689085024098.867, -2918230865242.835], 12: [101137894448850.16, 15792304463872.48], 13: [-547318121866334.75, -85461680461366.78], 14: [2961868150044878.0, 462484649602774.0], 15: [-1.6028453393164194e+16, -2502783120903340.5], 16: [8.673961301570699e+16, 1.3544066720503632e+16], 17: [-4.694003007836285e+17, -7.329510287240702e+16], 18: [2.540207858200412e+18, 3.966439770429271e+17], 19: [-1.3746595071094684e+19, -2.1464794814330604e+18], 20: [7.439110184031715e+19, 1.1615892858640597e+19], 21: [-4.025750816590561e+20, -6.286059618854904e+19], 22: [2.1785763847923292e+21, 3.401765610758452e+20], 23: [-1.178958882736772e+22, -1.8409002484988038e+21], 24: [6.380056565050023e+22, 9.962220074980587e+21], 25: [-3.4526328737909925e+23, -5.39115726722243e+22], 26: [1.8684276236889902e+24, 2.9174799983239075e+23], 27: [-1.0111187222147521e+25, -1.5788241555035913e+24], 28: [5.471772634412223e+25, 8.543968662023526e+24], 29: [-2.961105990675826e+26, -4.6236564419325195e+25], 30: [1.6024328738807596e+27, 2.502139097525517e+26], 31: [-8.671729859529375e+27, -1.3540582442321554e+27], 32: [4.692795597346483e+28, 7.327625094758045e+27], 33: [-2.5395544353330172e+29, -3.965419330345591e+28], 34: [1.3743058527183093e+30, 2.1459272780551152e+29], 35: [-7.437196877908883e+30, -1.1612905171656736e+30], 36: [4.0247151925418725e+31, 6.284442477356413e+30], 37: [-2.1780158942747196e+32, -3.400890453707064e+31]}\n",
      "error 6.649342523257211e+64\n",
      "{0: [190071.62780821917, 28894.444383561644], 1: [-837754.6584589041, -132375.3782020548], 2: [4725192.861695205, 735485.4336986301], 3: [-25378514.220633563, -3965862.8567123283], 4: [137531526.36073628, 21471170.605205476], 5: [-744072081.3981678, -116188695.03863013], 6: [4026816729.587038, 628767026.5613699], 7: [-21791336596.948853, -3402641941.9602737], 8: [117926249524.20401, 18413736632.242466], 9: [-638169761971.5286, -99647832032.09506], 10: [3453521310774.448, 539254438244.21826], 11: [-18689085024098.867, -2918230865242.835], 12: [101137894448850.16, 15792304463872.48], 13: [-547318121866334.75, -85461680461366.78], 14: [2961868150044878.0, 462484649602774.0], 15: [-1.6028453393164194e+16, -2502783120903340.5], 16: [8.673961301570699e+16, 1.3544066720503632e+16], 17: [-4.694003007836285e+17, -7.329510287240702e+16], 18: [2.540207858200412e+18, 3.966439770429271e+17], 19: [-1.3746595071094684e+19, -2.1464794814330604e+18], 20: [7.439110184031715e+19, 1.1615892858640597e+19], 21: [-4.025750816590561e+20, -6.286059618854904e+19], 22: [2.1785763847923292e+21, 3.401765610758452e+20], 23: [-1.178958882736772e+22, -1.8409002484988038e+21], 24: [6.380056565050023e+22, 9.962220074980587e+21], 25: [-3.4526328737909925e+23, -5.39115726722243e+22], 26: [1.8684276236889902e+24, 2.9174799983239075e+23], 27: [-1.0111187222147521e+25, -1.5788241555035913e+24], 28: [5.471772634412223e+25, 8.543968662023526e+24], 29: [-2.961105990675826e+26, -4.6236564419325195e+25], 30: [1.6024328738807596e+27, 2.502139097525517e+26], 31: [-8.671729859529375e+27, -1.3540582442321554e+27], 32: [4.692795597346483e+28, 7.327625094758045e+27], 33: [-2.5395544353330172e+29, -3.965419330345591e+28], 34: [1.3743058527183093e+30, 2.1459272780551152e+29], 35: [-7.437196877908883e+30, -1.1612905171656736e+30], 36: [4.0247151925418725e+31, 6.284442477356413e+30], 37: [-2.1780158942747196e+32, -3.400890453707064e+31], 38: [1.178655532268146e+33, 1.840426617756277e+32]}\n",
      "error 1.9472891116824176e+66\n",
      "{0: [190071.62780821917, 28894.444383561644], 1: [-837754.6584589041, -132375.3782020548], 2: [4725192.861695205, 735485.4336986301], 3: [-25378514.220633563, -3965862.8567123283], 4: [137531526.36073628, 21471170.605205476], 5: [-744072081.3981678, -116188695.03863013], 6: [4026816729.587038, 628767026.5613699], 7: [-21791336596.948853, -3402641941.9602737], 8: [117926249524.20401, 18413736632.242466], 9: [-638169761971.5286, -99647832032.09506], 10: [3453521310774.448, 539254438244.21826], 11: [-18689085024098.867, -2918230865242.835], 12: [101137894448850.16, 15792304463872.48], 13: [-547318121866334.75, -85461680461366.78], 14: [2961868150044878.0, 462484649602774.0], 15: [-1.6028453393164194e+16, -2502783120903340.5], 16: [8.673961301570699e+16, 1.3544066720503632e+16], 17: [-4.694003007836285e+17, -7.329510287240702e+16], 18: [2.540207858200412e+18, 3.966439770429271e+17], 19: [-1.3746595071094684e+19, -2.1464794814330604e+18], 20: [7.439110184031715e+19, 1.1615892858640597e+19], 21: [-4.025750816590561e+20, -6.286059618854904e+19], 22: [2.1785763847923292e+21, 3.401765610758452e+20], 23: [-1.178958882736772e+22, -1.8409002484988038e+21], 24: [6.380056565050023e+22, 9.962220074980587e+21], 25: [-3.4526328737909925e+23, -5.39115726722243e+22], 26: [1.8684276236889902e+24, 2.9174799983239075e+23], 27: [-1.0111187222147521e+25, -1.5788241555035913e+24], 28: [5.471772634412223e+25, 8.543968662023526e+24], 29: [-2.961105990675826e+26, -4.6236564419325195e+25], 30: [1.6024328738807596e+27, 2.502139097525517e+26], 31: [-8.671729859529375e+27, -1.3540582442321554e+27], 32: [4.692795597346483e+28, 7.327625094758045e+27], 33: [-2.5395544353330172e+29, -3.965419330345591e+28], 34: [1.3743058527183093e+30, 2.1459272780551152e+29], 35: [-7.437196877908883e+30, -1.1612905171656736e+30], 36: [4.0247151925418725e+31, 6.284442477356413e+30], 37: [-2.1780158942747196e+32, -3.400890453707064e+31], 38: [1.178655532268146e+33, 1.840426617756277e+32], 39: [-6.378415351115712e+33, -9.959657241360904e+32]}\n",
      "error 5.70272201887875e+67\n",
      "{0: [190071.62780821917, 28894.444383561644], 1: [-837754.6584589041, -132375.3782020548], 2: [4725192.861695205, 735485.4336986301], 3: [-25378514.220633563, -3965862.8567123283], 4: [137531526.36073628, 21471170.605205476], 5: [-744072081.3981678, -116188695.03863013], 6: [4026816729.587038, 628767026.5613699], 7: [-21791336596.948853, -3402641941.9602737], 8: [117926249524.20401, 18413736632.242466], 9: [-638169761971.5286, -99647832032.09506], 10: [3453521310774.448, 539254438244.21826], 11: [-18689085024098.867, -2918230865242.835], 12: [101137894448850.16, 15792304463872.48], 13: [-547318121866334.75, -85461680461366.78], 14: [2961868150044878.0, 462484649602774.0], 15: [-1.6028453393164194e+16, -2502783120903340.5], 16: [8.673961301570699e+16, 1.3544066720503632e+16], 17: [-4.694003007836285e+17, -7.329510287240702e+16], 18: [2.540207858200412e+18, 3.966439770429271e+17], 19: [-1.3746595071094684e+19, -2.1464794814330604e+18], 20: [7.439110184031715e+19, 1.1615892858640597e+19], 21: [-4.025750816590561e+20, -6.286059618854904e+19], 22: [2.1785763847923292e+21, 3.401765610758452e+20], 23: [-1.178958882736772e+22, -1.8409002484988038e+21], 24: [6.380056565050023e+22, 9.962220074980587e+21], 25: [-3.4526328737909925e+23, -5.39115726722243e+22], 26: [1.8684276236889902e+24, 2.9174799983239075e+23], 27: [-1.0111187222147521e+25, -1.5788241555035913e+24], 28: [5.471772634412223e+25, 8.543968662023526e+24], 29: [-2.961105990675826e+26, -4.6236564419325195e+25], 30: [1.6024328738807596e+27, 2.502139097525517e+26], 31: [-8.671729859529375e+27, -1.3540582442321554e+27], 32: [4.692795597346483e+28, 7.327625094758045e+27], 33: [-2.5395544353330172e+29, -3.965419330345591e+28], 34: [1.3743058527183093e+30, 2.1459272780551152e+29], 35: [-7.437196877908883e+30, -1.1612905171656736e+30], 36: [4.0247151925418725e+31, 6.284442477356413e+30], 37: [-2.1780158942747196e+32, -3.400890453707064e+31], 38: [1.178655532268146e+33, 1.840426617756277e+32], 39: [-6.378415351115712e+33, -9.959657241360904e+32], 40: [3.4517449873163997e+34, 5.389770850500794e+33]}\n",
      "error 1.6700674756752826e+69\n",
      "{0: [190071.62780821917, 28894.444383561644], 1: [-837754.6584589041, -132375.3782020548], 2: [4725192.861695205, 735485.4336986301], 3: [-25378514.220633563, -3965862.8567123283], 4: [137531526.36073628, 21471170.605205476], 5: [-744072081.3981678, -116188695.03863013], 6: [4026816729.587038, 628767026.5613699], 7: [-21791336596.948853, -3402641941.9602737], 8: [117926249524.20401, 18413736632.242466], 9: [-638169761971.5286, -99647832032.09506], 10: [3453521310774.448, 539254438244.21826], 11: [-18689085024098.867, -2918230865242.835], 12: [101137894448850.16, 15792304463872.48], 13: [-547318121866334.75, -85461680461366.78], 14: [2961868150044878.0, 462484649602774.0], 15: [-1.6028453393164194e+16, -2502783120903340.5], 16: [8.673961301570699e+16, 1.3544066720503632e+16], 17: [-4.694003007836285e+17, -7.329510287240702e+16], 18: [2.540207858200412e+18, 3.966439770429271e+17], 19: [-1.3746595071094684e+19, -2.1464794814330604e+18], 20: [7.439110184031715e+19, 1.1615892858640597e+19], 21: [-4.025750816590561e+20, -6.286059618854904e+19], 22: [2.1785763847923292e+21, 3.401765610758452e+20], 23: [-1.178958882736772e+22, -1.8409002484988038e+21], 24: [6.380056565050023e+22, 9.962220074980587e+21], 25: [-3.4526328737909925e+23, -5.39115726722243e+22], 26: [1.8684276236889902e+24, 2.9174799983239075e+23], 27: [-1.0111187222147521e+25, -1.5788241555035913e+24], 28: [5.471772634412223e+25, 8.543968662023526e+24], 29: [-2.961105990675826e+26, -4.6236564419325195e+25], 30: [1.6024328738807596e+27, 2.502139097525517e+26], 31: [-8.671729859529375e+27, -1.3540582442321554e+27], 32: [4.692795597346483e+28, 7.327625094758045e+27], 33: [-2.5395544353330172e+29, -3.965419330345591e+28], 34: [1.3743058527183093e+30, 2.1459272780551152e+29], 35: [-7.437196877908883e+30, -1.1612905171656736e+30], 36: [4.0247151925418725e+31, 6.284442477356413e+30], 37: [-2.1780158942747196e+32, -3.400890453707064e+31], 38: [1.178655532268146e+33, 1.840426617756277e+32], 39: [-6.378415351115712e+33, -9.959657241360904e+32], 40: [3.4517449873163997e+34, 5.389770850500794e+33], 41: [-1.8679472117579766e+35, -2.9167297434503067e+34]}\n",
      "error 4.890866417650205e+70\n",
      "{0: [190071.62780821917, 28894.444383561644], 1: [-837754.6584589041, -132375.3782020548], 2: [4725192.861695205, 735485.4336986301], 3: [-25378514.220633563, -3965862.8567123283], 4: [137531526.36073628, 21471170.605205476], 5: [-744072081.3981678, -116188695.03863013], 6: [4026816729.587038, 628767026.5613699], 7: [-21791336596.948853, -3402641941.9602737], 8: [117926249524.20401, 18413736632.242466], 9: [-638169761971.5286, -99647832032.09506], 10: [3453521310774.448, 539254438244.21826], 11: [-18689085024098.867, -2918230865242.835], 12: [101137894448850.16, 15792304463872.48], 13: [-547318121866334.75, -85461680461366.78], 14: [2961868150044878.0, 462484649602774.0], 15: [-1.6028453393164194e+16, -2502783120903340.5], 16: [8.673961301570699e+16, 1.3544066720503632e+16], 17: [-4.694003007836285e+17, -7.329510287240702e+16], 18: [2.540207858200412e+18, 3.966439770429271e+17], 19: [-1.3746595071094684e+19, -2.1464794814330604e+18], 20: [7.439110184031715e+19, 1.1615892858640597e+19], 21: [-4.025750816590561e+20, -6.286059618854904e+19], 22: [2.1785763847923292e+21, 3.401765610758452e+20], 23: [-1.178958882736772e+22, -1.8409002484988038e+21], 24: [6.380056565050023e+22, 9.962220074980587e+21], 25: [-3.4526328737909925e+23, -5.39115726722243e+22], 26: [1.8684276236889902e+24, 2.9174799983239075e+23], 27: [-1.0111187222147521e+25, -1.5788241555035913e+24], 28: [5.471772634412223e+25, 8.543968662023526e+24], 29: [-2.961105990675826e+26, -4.6236564419325195e+25], 30: [1.6024328738807596e+27, 2.502139097525517e+26], 31: [-8.671729859529375e+27, -1.3540582442321554e+27], 32: [4.692795597346483e+28, 7.327625094758045e+27], 33: [-2.5395544353330172e+29, -3.965419330345591e+28], 34: [1.3743058527183093e+30, 2.1459272780551152e+29], 35: [-7.437196877908883e+30, -1.1612905171656736e+30], 36: [4.0247151925418725e+31, 6.284442477356413e+30], 37: [-2.1780158942747196e+32, -3.400890453707064e+31], 38: [1.178655532268146e+33, 1.840426617756277e+32], 39: [-6.378415351115712e+33, -9.959657241360904e+32], 40: [3.4517449873163997e+34, 5.389770850500794e+33], 41: [-1.8679472117579766e+35, -2.9167297434503067e+34], 42: [1.0108587392497352e+36, 1.5784181625184518e+35]}\n",
      "error 1.432311778257483e+72\n",
      "{0: [190071.62780821917, 28894.444383561644], 1: [-837754.6584589041, -132375.3782020548], 2: [4725192.861695205, 735485.4336986301], 3: [-25378514.220633563, -3965862.8567123283], 4: [137531526.36073628, 21471170.605205476], 5: [-744072081.3981678, -116188695.03863013], 6: [4026816729.587038, 628767026.5613699], 7: [-21791336596.948853, -3402641941.9602737], 8: [117926249524.20401, 18413736632.242466], 9: [-638169761971.5286, -99647832032.09506], 10: [3453521310774.448, 539254438244.21826], 11: [-18689085024098.867, -2918230865242.835], 12: [101137894448850.16, 15792304463872.48], 13: [-547318121866334.75, -85461680461366.78], 14: [2961868150044878.0, 462484649602774.0], 15: [-1.6028453393164194e+16, -2502783120903340.5], 16: [8.673961301570699e+16, 1.3544066720503632e+16], 17: [-4.694003007836285e+17, -7.329510287240702e+16], 18: [2.540207858200412e+18, 3.966439770429271e+17], 19: [-1.3746595071094684e+19, -2.1464794814330604e+18], 20: [7.439110184031715e+19, 1.1615892858640597e+19], 21: [-4.025750816590561e+20, -6.286059618854904e+19], 22: [2.1785763847923292e+21, 3.401765610758452e+20], 23: [-1.178958882736772e+22, -1.8409002484988038e+21], 24: [6.380056565050023e+22, 9.962220074980587e+21], 25: [-3.4526328737909925e+23, -5.39115726722243e+22], 26: [1.8684276236889902e+24, 2.9174799983239075e+23], 27: [-1.0111187222147521e+25, -1.5788241555035913e+24], 28: [5.471772634412223e+25, 8.543968662023526e+24], 29: [-2.961105990675826e+26, -4.6236564419325195e+25], 30: [1.6024328738807596e+27, 2.502139097525517e+26], 31: [-8.671729859529375e+27, -1.3540582442321554e+27], 32: [4.692795597346483e+28, 7.327625094758045e+27], 33: [-2.5395544353330172e+29, -3.965419330345591e+28], 34: [1.3743058527183093e+30, 2.1459272780551152e+29], 35: [-7.437196877908883e+30, -1.1612905171656736e+30], 36: [4.0247151925418725e+31, 6.284442477356413e+30], 37: [-2.1780158942747196e+32, -3.400890453707064e+31], 38: [1.178655532268146e+33, 1.840426617756277e+32], 39: [-6.378415351115712e+33, -9.959657241360904e+32], 40: [3.4517449873163997e+34, 5.389770850500794e+33], 41: [-1.8679472117579766e+35, -2.9167297434503067e+34], 42: [1.0108587392497352e+36, 1.5784181625184518e+35], 43: [-5.470365448048233e+36, -8.541771343152859e+35]}\n",
      "error 4.1945879511819323e+73\n",
      "{0: [190071.62780821917, 28894.444383561644], 1: [-837754.6584589041, -132375.3782020548], 2: [4725192.861695205, 735485.4336986301], 3: [-25378514.220633563, -3965862.8567123283], 4: [137531526.36073628, 21471170.605205476], 5: [-744072081.3981678, -116188695.03863013], 6: [4026816729.587038, 628767026.5613699], 7: [-21791336596.948853, -3402641941.9602737], 8: [117926249524.20401, 18413736632.242466], 9: [-638169761971.5286, -99647832032.09506], 10: [3453521310774.448, 539254438244.21826], 11: [-18689085024098.867, -2918230865242.835], 12: [101137894448850.16, 15792304463872.48], 13: [-547318121866334.75, -85461680461366.78], 14: [2961868150044878.0, 462484649602774.0], 15: [-1.6028453393164194e+16, -2502783120903340.5], 16: [8.673961301570699e+16, 1.3544066720503632e+16], 17: [-4.694003007836285e+17, -7.329510287240702e+16], 18: [2.540207858200412e+18, 3.966439770429271e+17], 19: [-1.3746595071094684e+19, -2.1464794814330604e+18], 20: [7.439110184031715e+19, 1.1615892858640597e+19], 21: [-4.025750816590561e+20, -6.286059618854904e+19], 22: [2.1785763847923292e+21, 3.401765610758452e+20], 23: [-1.178958882736772e+22, -1.8409002484988038e+21], 24: [6.380056565050023e+22, 9.962220074980587e+21], 25: [-3.4526328737909925e+23, -5.39115726722243e+22], 26: [1.8684276236889902e+24, 2.9174799983239075e+23], 27: [-1.0111187222147521e+25, -1.5788241555035913e+24], 28: [5.471772634412223e+25, 8.543968662023526e+24], 29: [-2.961105990675826e+26, -4.6236564419325195e+25], 30: [1.6024328738807596e+27, 2.502139097525517e+26], 31: [-8.671729859529375e+27, -1.3540582442321554e+27], 32: [4.692795597346483e+28, 7.327625094758045e+27], 33: [-2.5395544353330172e+29, -3.965419330345591e+28], 34: [1.3743058527183093e+30, 2.1459272780551152e+29], 35: [-7.437196877908883e+30, -1.1612905171656736e+30], 36: [4.0247151925418725e+31, 6.284442477356413e+30], 37: [-2.1780158942747196e+32, -3.400890453707064e+31], 38: [1.178655532268146e+33, 1.840426617756277e+32], 39: [-6.378415351115712e+33, -9.959657241360904e+32], 40: [3.4517449873163997e+34, 5.389770850500794e+33], 41: [-1.8679472117579766e+35, -2.9167297434503067e+34], 42: [1.0108587392497352e+36, 1.5784181625184518e+35], 43: [-5.470365448048233e+36, -8.541771343152859e+35], 44: [inf, 4.62246701764363e+36]}\n",
      "error 1.2284035622558416e+75\n",
      "{0: [190071.62780821917, 28894.444383561644], 1: [-837754.6584589041, -132375.3782020548], 2: [4725192.861695205, 735485.4336986301], 3: [-25378514.220633563, -3965862.8567123283], 4: [137531526.36073628, 21471170.605205476], 5: [-744072081.3981678, -116188695.03863013], 6: [4026816729.587038, 628767026.5613699], 7: [-21791336596.948853, -3402641941.9602737], 8: [117926249524.20401, 18413736632.242466], 9: [-638169761971.5286, -99647832032.09506], 10: [3453521310774.448, 539254438244.21826], 11: [-18689085024098.867, -2918230865242.835], 12: [101137894448850.16, 15792304463872.48], 13: [-547318121866334.75, -85461680461366.78], 14: [2961868150044878.0, 462484649602774.0], 15: [-1.6028453393164194e+16, -2502783120903340.5], 16: [8.673961301570699e+16, 1.3544066720503632e+16], 17: [-4.694003007836285e+17, -7.329510287240702e+16], 18: [2.540207858200412e+18, 3.966439770429271e+17], 19: [-1.3746595071094684e+19, -2.1464794814330604e+18], 20: [7.439110184031715e+19, 1.1615892858640597e+19], 21: [-4.025750816590561e+20, -6.286059618854904e+19], 22: [2.1785763847923292e+21, 3.401765610758452e+20], 23: [-1.178958882736772e+22, -1.8409002484988038e+21], 24: [6.380056565050023e+22, 9.962220074980587e+21], 25: [-3.4526328737909925e+23, -5.39115726722243e+22], 26: [1.8684276236889902e+24, 2.9174799983239075e+23], 27: [-1.0111187222147521e+25, -1.5788241555035913e+24], 28: [5.471772634412223e+25, 8.543968662023526e+24], 29: [-2.961105990675826e+26, -4.6236564419325195e+25], 30: [1.6024328738807596e+27, 2.502139097525517e+26], 31: [-8.671729859529375e+27, -1.3540582442321554e+27], 32: [4.692795597346483e+28, 7.327625094758045e+27], 33: [-2.5395544353330172e+29, -3.965419330345591e+28], 34: [1.3743058527183093e+30, 2.1459272780551152e+29], 35: [-7.437196877908883e+30, -1.1612905171656736e+30], 36: [4.0247151925418725e+31, 6.284442477356413e+30], 37: [-2.1780158942747196e+32, -3.400890453707064e+31], 38: [1.178655532268146e+33, 1.840426617756277e+32], 39: [-6.378415351115712e+33, -9.959657241360904e+32], 40: [3.4517449873163997e+34, 5.389770850500794e+33], 41: [-1.8679472117579766e+35, -2.9167297434503067e+34], 42: [1.0108587392497352e+36, 1.5784181625184518e+35], 43: [-5.470365448048233e+36, -8.541771343152859e+35], 44: [inf, 4.62246701764363e+36], 45: [nan, -inf]}\n",
      "error inf\n",
      "{0: [190071.62780821917, 28894.444383561644], 1: [-837754.6584589041, -132375.3782020548], 2: [4725192.861695205, 735485.4336986301], 3: [-25378514.220633563, -3965862.8567123283], 4: [137531526.36073628, 21471170.605205476], 5: [-744072081.3981678, -116188695.03863013], 6: [4026816729.587038, 628767026.5613699], 7: [-21791336596.948853, -3402641941.9602737], 8: [117926249524.20401, 18413736632.242466], 9: [-638169761971.5286, -99647832032.09506], 10: [3453521310774.448, 539254438244.21826], 11: [-18689085024098.867, -2918230865242.835], 12: [101137894448850.16, 15792304463872.48], 13: [-547318121866334.75, -85461680461366.78], 14: [2961868150044878.0, 462484649602774.0], 15: [-1.6028453393164194e+16, -2502783120903340.5], 16: [8.673961301570699e+16, 1.3544066720503632e+16], 17: [-4.694003007836285e+17, -7.329510287240702e+16], 18: [2.540207858200412e+18, 3.966439770429271e+17], 19: [-1.3746595071094684e+19, -2.1464794814330604e+18], 20: [7.439110184031715e+19, 1.1615892858640597e+19], 21: [-4.025750816590561e+20, -6.286059618854904e+19], 22: [2.1785763847923292e+21, 3.401765610758452e+20], 23: [-1.178958882736772e+22, -1.8409002484988038e+21], 24: [6.380056565050023e+22, 9.962220074980587e+21], 25: [-3.4526328737909925e+23, -5.39115726722243e+22], 26: [1.8684276236889902e+24, 2.9174799983239075e+23], 27: [-1.0111187222147521e+25, -1.5788241555035913e+24], 28: [5.471772634412223e+25, 8.543968662023526e+24], 29: [-2.961105990675826e+26, -4.6236564419325195e+25], 30: [1.6024328738807596e+27, 2.502139097525517e+26], 31: [-8.671729859529375e+27, -1.3540582442321554e+27], 32: [4.692795597346483e+28, 7.327625094758045e+27], 33: [-2.5395544353330172e+29, -3.965419330345591e+28], 34: [1.3743058527183093e+30, 2.1459272780551152e+29], 35: [-7.437196877908883e+30, -1.1612905171656736e+30], 36: [4.0247151925418725e+31, 6.284442477356413e+30], 37: [-2.1780158942747196e+32, -3.400890453707064e+31], 38: [1.178655532268146e+33, 1.840426617756277e+32], 39: [-6.378415351115712e+33, -9.959657241360904e+32], 40: [3.4517449873163997e+34, 5.389770850500794e+33], 41: [-1.8679472117579766e+35, -2.9167297434503067e+34], 42: [1.0108587392497352e+36, 1.5784181625184518e+35], 43: [-5.470365448048233e+36, -8.541771343152859e+35], 44: [inf, 4.62246701764363e+36], 45: [nan, -inf], 46: [nan, nan]}\n",
      "error nan\n",
      "{0: [190071.62780821917, 28894.444383561644], 1: [-837754.6584589041, -132375.3782020548], 2: [4725192.861695205, 735485.4336986301], 3: [-25378514.220633563, -3965862.8567123283], 4: [137531526.36073628, 21471170.605205476], 5: [-744072081.3981678, -116188695.03863013], 6: [4026816729.587038, 628767026.5613699], 7: [-21791336596.948853, -3402641941.9602737], 8: [117926249524.20401, 18413736632.242466], 9: [-638169761971.5286, -99647832032.09506], 10: [3453521310774.448, 539254438244.21826], 11: [-18689085024098.867, -2918230865242.835], 12: [101137894448850.16, 15792304463872.48], 13: [-547318121866334.75, -85461680461366.78], 14: [2961868150044878.0, 462484649602774.0], 15: [-1.6028453393164194e+16, -2502783120903340.5], 16: [8.673961301570699e+16, 1.3544066720503632e+16], 17: [-4.694003007836285e+17, -7.329510287240702e+16], 18: [2.540207858200412e+18, 3.966439770429271e+17], 19: [-1.3746595071094684e+19, -2.1464794814330604e+18], 20: [7.439110184031715e+19, 1.1615892858640597e+19], 21: [-4.025750816590561e+20, -6.286059618854904e+19], 22: [2.1785763847923292e+21, 3.401765610758452e+20], 23: [-1.178958882736772e+22, -1.8409002484988038e+21], 24: [6.380056565050023e+22, 9.962220074980587e+21], 25: [-3.4526328737909925e+23, -5.39115726722243e+22], 26: [1.8684276236889902e+24, 2.9174799983239075e+23], 27: [-1.0111187222147521e+25, -1.5788241555035913e+24], 28: [5.471772634412223e+25, 8.543968662023526e+24], 29: [-2.961105990675826e+26, -4.6236564419325195e+25], 30: [1.6024328738807596e+27, 2.502139097525517e+26], 31: [-8.671729859529375e+27, -1.3540582442321554e+27], 32: [4.692795597346483e+28, 7.327625094758045e+27], 33: [-2.5395544353330172e+29, -3.965419330345591e+28], 34: [1.3743058527183093e+30, 2.1459272780551152e+29], 35: [-7.437196877908883e+30, -1.1612905171656736e+30], 36: [4.0247151925418725e+31, 6.284442477356413e+30], 37: [-2.1780158942747196e+32, -3.400890453707064e+31], 38: [1.178655532268146e+33, 1.840426617756277e+32], 39: [-6.378415351115712e+33, -9.959657241360904e+32], 40: [3.4517449873163997e+34, 5.389770850500794e+33], 41: [-1.8679472117579766e+35, -2.9167297434503067e+34], 42: [1.0108587392497352e+36, 1.5784181625184518e+35], 43: [-5.470365448048233e+36, -8.541771343152859e+35], 44: [inf, 4.62246701764363e+36], 45: [nan, -inf], 46: [nan, nan], 47: [nan, nan]}\n",
      "error nan\n",
      "{0: [190071.62780821917, 28894.444383561644], 1: [-837754.6584589041, -132375.3782020548], 2: [4725192.861695205, 735485.4336986301], 3: [-25378514.220633563, -3965862.8567123283], 4: [137531526.36073628, 21471170.605205476], 5: [-744072081.3981678, -116188695.03863013], 6: [4026816729.587038, 628767026.5613699], 7: [-21791336596.948853, -3402641941.9602737], 8: [117926249524.20401, 18413736632.242466], 9: [-638169761971.5286, -99647832032.09506], 10: [3453521310774.448, 539254438244.21826], 11: [-18689085024098.867, -2918230865242.835], 12: [101137894448850.16, 15792304463872.48], 13: [-547318121866334.75, -85461680461366.78], 14: [2961868150044878.0, 462484649602774.0], 15: [-1.6028453393164194e+16, -2502783120903340.5], 16: [8.673961301570699e+16, 1.3544066720503632e+16], 17: [-4.694003007836285e+17, -7.329510287240702e+16], 18: [2.540207858200412e+18, 3.966439770429271e+17], 19: [-1.3746595071094684e+19, -2.1464794814330604e+18], 20: [7.439110184031715e+19, 1.1615892858640597e+19], 21: [-4.025750816590561e+20, -6.286059618854904e+19], 22: [2.1785763847923292e+21, 3.401765610758452e+20], 23: [-1.178958882736772e+22, -1.8409002484988038e+21], 24: [6.380056565050023e+22, 9.962220074980587e+21], 25: [-3.4526328737909925e+23, -5.39115726722243e+22], 26: [1.8684276236889902e+24, 2.9174799983239075e+23], 27: [-1.0111187222147521e+25, -1.5788241555035913e+24], 28: [5.471772634412223e+25, 8.543968662023526e+24], 29: [-2.961105990675826e+26, -4.6236564419325195e+25], 30: [1.6024328738807596e+27, 2.502139097525517e+26], 31: [-8.671729859529375e+27, -1.3540582442321554e+27], 32: [4.692795597346483e+28, 7.327625094758045e+27], 33: [-2.5395544353330172e+29, -3.965419330345591e+28], 34: [1.3743058527183093e+30, 2.1459272780551152e+29], 35: [-7.437196877908883e+30, -1.1612905171656736e+30], 36: [4.0247151925418725e+31, 6.284442477356413e+30], 37: [-2.1780158942747196e+32, -3.400890453707064e+31], 38: [1.178655532268146e+33, 1.840426617756277e+32], 39: [-6.378415351115712e+33, -9.959657241360904e+32], 40: [3.4517449873163997e+34, 5.389770850500794e+33], 41: [-1.8679472117579766e+35, -2.9167297434503067e+34], 42: [1.0108587392497352e+36, 1.5784181625184518e+35], 43: [-5.470365448048233e+36, -8.541771343152859e+35], 44: [inf, 4.62246701764363e+36], 45: [nan, -inf], 46: [nan, nan], 47: [nan, nan], 48: [nan, nan]}\n",
      "error nan\n",
      "{0: [190071.62780821917, 28894.444383561644], 1: [-837754.6584589041, -132375.3782020548], 2: [4725192.861695205, 735485.4336986301], 3: [-25378514.220633563, -3965862.8567123283], 4: [137531526.36073628, 21471170.605205476], 5: [-744072081.3981678, -116188695.03863013], 6: [4026816729.587038, 628767026.5613699], 7: [-21791336596.948853, -3402641941.9602737], 8: [117926249524.20401, 18413736632.242466], 9: [-638169761971.5286, -99647832032.09506], 10: [3453521310774.448, 539254438244.21826], 11: [-18689085024098.867, -2918230865242.835], 12: [101137894448850.16, 15792304463872.48], 13: [-547318121866334.75, -85461680461366.78], 14: [2961868150044878.0, 462484649602774.0], 15: [-1.6028453393164194e+16, -2502783120903340.5], 16: [8.673961301570699e+16, 1.3544066720503632e+16], 17: [-4.694003007836285e+17, -7.329510287240702e+16], 18: [2.540207858200412e+18, 3.966439770429271e+17], 19: [-1.3746595071094684e+19, -2.1464794814330604e+18], 20: [7.439110184031715e+19, 1.1615892858640597e+19], 21: [-4.025750816590561e+20, -6.286059618854904e+19], 22: [2.1785763847923292e+21, 3.401765610758452e+20], 23: [-1.178958882736772e+22, -1.8409002484988038e+21], 24: [6.380056565050023e+22, 9.962220074980587e+21], 25: [-3.4526328737909925e+23, -5.39115726722243e+22], 26: [1.8684276236889902e+24, 2.9174799983239075e+23], 27: [-1.0111187222147521e+25, -1.5788241555035913e+24], 28: [5.471772634412223e+25, 8.543968662023526e+24], 29: [-2.961105990675826e+26, -4.6236564419325195e+25], 30: [1.6024328738807596e+27, 2.502139097525517e+26], 31: [-8.671729859529375e+27, -1.3540582442321554e+27], 32: [4.692795597346483e+28, 7.327625094758045e+27], 33: [-2.5395544353330172e+29, -3.965419330345591e+28], 34: [1.3743058527183093e+30, 2.1459272780551152e+29], 35: [-7.437196877908883e+30, -1.1612905171656736e+30], 36: [4.0247151925418725e+31, 6.284442477356413e+30], 37: [-2.1780158942747196e+32, -3.400890453707064e+31], 38: [1.178655532268146e+33, 1.840426617756277e+32], 39: [-6.378415351115712e+33, -9.959657241360904e+32], 40: [3.4517449873163997e+34, 5.389770850500794e+33], 41: [-1.8679472117579766e+35, -2.9167297434503067e+34], 42: [1.0108587392497352e+36, 1.5784181625184518e+35], 43: [-5.470365448048233e+36, -8.541771343152859e+35], 44: [inf, 4.62246701764363e+36], 45: [nan, -inf], 46: [nan, nan], 47: [nan, nan], 48: [nan, nan], 49: [nan, nan]}\n",
      "error nan\n"
     ]
    },
    {
     "name": "stderr",
     "output_type": "stream",
     "text": [
      "C:\\Users\\Usuario\\AppData\\Local\\Temp/ipykernel_9860/3597549327.py:16: RuntimeWarning: overflow encountered in multiply\n",
      "  b1d = -(2/n)*sum(x*(y-y_predicted))\n",
      "C:\\Users\\Usuario\\AppData\\Local\\Temp/ipykernel_9860/3597549327.py:18: RuntimeWarning: invalid value encountered in double_scalars\n",
      "  b1 = b1 - learning_rate * b1d\n"
     ]
    }
   ],
   "source": [
    "\n",
    "acum_b1 = []\n",
    "acum_b0 = []\n",
    "acum_error = []\n",
    "acum_i = []\n",
    "ecu = []\n",
    "def gradient_descent(x,y):\n",
    "    b0 = 0\n",
    "    b1 = 0\n",
    "    epochs = 50\n",
    "    n = len(x)\n",
    "    learning_rate = 0.08\n",
    "\n",
    "    for i in range(epochs):\n",
    "        y_predicted = b1 * x + b0\n",
    "        error = (1/n) * sum([val**2 for val in (y-y_predicted)])\n",
    "        b1d = -(2/n)*sum(x*(y-y_predicted))\n",
    "        b0d = -(2/n)*sum(y-y_predicted)\n",
    "        b1 = b1 - learning_rate * b1d\n",
    "        b0 = b0 - learning_rate * b0d\n",
    "        \n",
    "        if epochs % 5 == 0:\n",
    "            acum_b1.append(b1 - learning_rate * b1d)\n",
    "            acum_b0.append(b0 - learning_rate * b0d)\n",
    "            acum_error.append((1/n) * sum([val**2 for val in (y-y_predicted)]))\n",
    "            acum_i.append(i)\n",
    "            ecu.append([b1,b0])\n",
    "            Ecuacion = (dict(zip(acum_i, ecu,)))\n",
    "        print(Ecuacion)\n",
    "        print (\"error {}\".format(error,i))\n",
    "x = np.array(Train_set['OverallQual'],dtype=np.float32)\n",
    "y = np.array(Train_set['SalePrice'],dtype=np.float32)\n",
    "\n",
    "\n",
    "\n",
    "gradient_descent(x,y)"
   ]
  }
 ],
 "metadata": {
  "interpreter": {
   "hash": "e06ff7da33dc9620448857a90ad8b5f428f0d573d205a934d2841c8aee45ea32"
  },
  "kernelspec": {
   "display_name": "Python 3.9.7 ('base')",
   "language": "python",
   "name": "python3"
  },
  "language_info": {
   "codemirror_mode": {
    "name": "ipython",
    "version": 3
   },
   "file_extension": ".py",
   "mimetype": "text/x-python",
   "name": "python",
   "nbconvert_exporter": "python",
   "pygments_lexer": "ipython3",
   "version": "3.9.7"
  },
  "orig_nbformat": 4
 },
 "nbformat": 4,
 "nbformat_minor": 2
}
