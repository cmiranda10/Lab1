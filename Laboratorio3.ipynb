{
 "cells": [
  {
   "cell_type": "code",
   "execution_count": 1,
   "id": "0f6049bc",
   "metadata": {},
   "outputs": [
    {
     "name": "stdout",
     "output_type": "stream",
     "text": [
      "Ingrese el numero entero a convertir 76\n",
      "1001100\n"
     ]
    }
   ],
   "source": [
    "#1. Cree un procedimiento en Python dado un numero entero en decimal despliegue su represen-\n",
    "# tacion en numero binario.\n",
    "Entero = int(input(\"Ingrese el numero entero a convertir \"))\n",
    "def decimal_a_binario(decimal):\n",
    "  outcome = \"\"\n",
    "  while decimal > 0:\n",
    "    residuo = decimal % 2\n",
    "    outcome = outcome + str(residuo)\n",
    "    decimal = decimal // 2\n",
    "  return outcome[::-1]\n",
    "\n",
    "print(decimal_a_binario(Entero))"
   ]
  },
  {
   "cell_type": "code",
   "execution_count": 2,
   "id": "4f19252e",
   "metadata": {},
   "outputs": [
    {
     "name": "stdout",
     "output_type": "stream",
     "text": [
      "1  False\n",
      "2  True\n",
      "3  True\n",
      "4  False\n",
      "5  True\n",
      "6  False\n",
      "7  True\n",
      "8  False\n",
      "9  False\n",
      "10  False\n",
      "11  True\n",
      "12  False\n",
      "13  True\n",
      "14  False\n"
     ]
    }
   ],
   "source": [
    "# 2. Desarrolle en Python una funci\u0013on que devuelva verdadero si un n\u0013umero entero que recibe\n",
    "#   como par\u0013ametro es primo y devuelva falso en el caso contrario.\n",
    "\n",
    "def primo(x):\n",
    "  if (x == 1):\n",
    "    return False\n",
    "  elif (x == 2):\n",
    "    return True\n",
    "  else:\n",
    "      for i in range(2, x):\n",
    "          if x % i == 0:\n",
    "            return False\n",
    "      return True\n",
    "for i in range(1,15):\n",
    "  print(i,\"\",primo(i))"
   ]
  },
  {
   "cell_type": "code",
   "execution_count": 3,
   "id": "68516218",
   "metadata": {},
   "outputs": [
    {
     "name": "stdout",
     "output_type": "stream",
     "text": [
      "La desviacion estandar es: 7.803845206050669\n"
     ]
    }
   ],
   "source": [
    "# 3 Haga un programa en Python que dada una lista de n n\u0013umeros, calcule la desviaci\u0013on est\u0013andar\n",
    "#   del conjunto de n\u0013umeros, para este ejercicio no puede utilizar ninguna funci\u0013on que resuelva\n",
    "#   el problema.\n",
    "from math import sqrt\n",
    "\n",
    "def Desviacion_estandar(valores,media):\n",
    "    suma = 0\n",
    "    for valor in valores:\n",
    "        suma +=(valor-media)**2\n",
    "    radicando = suma / (len(valores)-1)\n",
    "    return sqrt(radicando)\n",
    "\n",
    "def promedio(valores):\n",
    "    suma = 0\n",
    "    for valor in valores:\n",
    "        suma +=(valor)\n",
    "    return suma / (len(valores))\n",
    " \n",
    "\n",
    "if __name__ == \"__main__\":\n",
    "    nlista = [10,35,25,20,18,16,23,29,12,15]\n",
    "    media =promedio(nlista)\n",
    "    ds = Desviacion_estandar(nlista,media)\n",
    "    print('La desviacion estandar es: {}'.format(ds))"
   ]
  },
  {
   "cell_type": "code",
   "execution_count": 18,
   "id": "fe079a56",
   "metadata": {},
   "outputs": [
    {
     "name": "stdout",
     "output_type": "stream",
     "text": [
      "[11, 12, 13, 14, 15, 16, 17, 18, 19]\n"
     ]
    }
   ],
   "source": [
    "# 4 Desarrolle en Python una funci\u0013on que dado un arreglo de corra el algoritmo de ordenamiento\n",
    "#   burbuja y devuelva un nuevo arreglo ordenado. Posteriormente cree una funci\u0013on main para\n",
    "#   probar su funci\u0013on.\n",
    "lista_desorden =[15,17,13,11,18,14,19,12,16]\n",
    "for ld in range(len(lista_desorden)-1):\n",
    "        for lo in range(len(lista_desorden)-1):\n",
    "            if lista_desorden [lo] > lista_desorden[lo+1]:\n",
    "              transitoria = lista_desorden[lo]\n",
    "              lista_desorden[lo] =lista_desorden[lo+1]\n",
    "              lista_desorden[lo+1] = transitoria\n",
    "print(lista_desorden)"
   ]
  },
  {
   "cell_type": "code",
   "execution_count": 27,
   "id": "f237f94c",
   "metadata": {},
   "outputs": [
    {
     "name": "stdout",
     "output_type": "stream",
     "text": [
      "197819862000200120132022\n"
     ]
    }
   ],
   "source": [
    "# 5 Escriba una funci\u0013on en Python que dada una tupla de elementos (numeros o letras) esta se\n",
    "#   convierta a un string. Tomar nota del siguiente ejemplo:\n",
    "#   Si la entrada fuera: (10, 20, 40, 5, 70)\n",
    "#   La salida deber\u0013\u0010a ser: 102040570\n",
    "tupla5 =(1978,1986,2000,2001,2013,2022)\n",
    "\n",
    "def cadena():\n",
    "      map(str,tupla5)\n",
    "      oracion = ''.join(map(str,tupla5))\n",
    "      print(oracion)\n",
    "cadena()\n"
   ]
  },
  {
   "cell_type": "code",
   "execution_count": 28,
   "id": "807f63ff",
   "metadata": {},
   "outputs": [
    {
     "name": "stdout",
     "output_type": "stream",
     "text": [
      "((11, 22), (5, 12), (), ('z', 'x', 'y'), (), (15, 10, 7), ())\n",
      "[(11, 22), (5, 12), ('z', 'x', 'y'), (15, 10, 7)]\n"
     ]
    }
   ],
   "source": [
    "# 6 Cree un programa en Python que dada una lista de tuplas, elimine las tuplas que est\u0013an vac\u0013\u0010as.\n",
    "#Tomar nota del siguiente ejemplo:\n",
    "#Si la lista fuera: [(), (), ('X',), ('a', 'b'), ('a', 'b', 'c'), ('d')]\n",
    "#El resultado deber\u0013\u0010a ser: [('X'), ('a', 'b'), ('a', 'b', 'c'), 'd']\n",
    "tuplas = ((11,22),(5,12),(),('z','x','y'),(),(15,10,7),())\n",
    "print(tuplas)\n",
    "\n",
    "def quitarvacias():\n",
    "    novacios = [t for t in tuplas if t]\n",
    "    print(novacios)\n",
    "quitarvacias()\n"
   ]
  },
  {
   "cell_type": "code",
   "execution_count": 29,
   "id": "920b705d",
   "metadata": {},
   "outputs": [
    {
     "name": "stdout",
     "output_type": "stream",
     "text": [
      "(30.0, 80.0, 35.0)\n"
     ]
    }
   ],
   "source": [
    "# 7.  Cree una funci\u0013on en Python que dada una tupla de tuplas con numeros, produzca una tupla\n",
    "#con el promedio de cada tupla individual. Tomar nota del siguiente ejemplo:\n",
    "#Si la tupla de entrada fuera: ((10, 10, 10, 12), (30, 45, 56, 45), (81, 80, 39, 32))\n",
    "#El resultado deber\u0013\u0010a ser: (10.5, 44, 58)\n",
    "tupla7_1 = ((10,20,30,40,50),(60,70,80,90,100),(15,25,35,45,55))\n",
    "\n",
    "def promedioxtupla():\n",
    "  average = [sum(x) /len(x) for x in tupla7_1]\n",
    "  resultado = tuple (average)\n",
    "  print (resultado)\n",
    "promedioxtupla()\n"
   ]
  },
  {
   "cell_type": "code",
   "execution_count": null,
   "id": "ee89cf45",
   "metadata": {},
   "outputs": [],
   "source": []
  }
 ],
 "metadata": {
  "kernelspec": {
   "display_name": "Python 3 (ipykernel)",
   "language": "python",
   "name": "python3"
  },
  "language_info": {
   "codemirror_mode": {
    "name": "ipython",
    "version": 3
   },
   "file_extension": ".py",
   "mimetype": "text/x-python",
   "name": "python",
   "nbconvert_exporter": "python",
   "pygments_lexer": "ipython3",
   "version": "3.9.7"
  }
 },
 "nbformat": 4,
 "nbformat_minor": 5
}
