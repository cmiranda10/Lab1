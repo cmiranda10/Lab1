{
 "cells": [
  {
   "cell_type": "code",
   "execution_count": 1,
   "id": "af04d22c-1240-48b2-8fc6-c83690aec9cf",
   "metadata": {},
   "outputs": [],
   "source": [
    "import random"
   ]
  },
  {
   "cell_type": "code",
   "execution_count": 3,
   "id": "48939f4b-e4da-41dd-b044-d4fda3ca90d3",
   "metadata": {},
   "outputs": [
    {
     "name": "stdin",
     "output_type": "stream",
     "text": [
      "Presione Enter para generar un codigo o escriba Exit para finalizar \n"
     ]
    },
    {
     "name": "stdout",
     "output_type": "stream",
     "text": [
      "['H4Z0A5V0W6H4Q9']\n"
     ]
    },
    {
     "name": "stdin",
     "output_type": "stream",
     "text": [
      "Presione Enter para generar un codigo o escriba Exit para finalizar \n"
     ]
    },
    {
     "name": "stdout",
     "output_type": "stream",
     "text": [
      "['F7V2P0D2M8P1K4']\n"
     ]
    },
    {
     "name": "stdin",
     "output_type": "stream",
     "text": [
      "Presione Enter para generar un codigo o escriba Exit para finalizar \n"
     ]
    },
    {
     "name": "stdout",
     "output_type": "stream",
     "text": [
      "['H6F7E3D3M9A6Y6']\n"
     ]
    },
    {
     "name": "stdin",
     "output_type": "stream",
     "text": [
      "Presione Enter para generar un codigo o escriba Exit para finalizar \n"
     ]
    },
    {
     "name": "stdout",
     "output_type": "stream",
     "text": [
      "['O2O2O2Z6E1W7D1']\n"
     ]
    },
    {
     "name": "stdin",
     "output_type": "stream",
     "text": [
      "Presione Enter para generar un codigo o escriba Exit para finalizar \n"
     ]
    },
    {
     "name": "stdout",
     "output_type": "stream",
     "text": [
      "['Z4N2B4X5L7H5P0']\n"
     ]
    },
    {
     "name": "stdin",
     "output_type": "stream",
     "text": [
      "Presione Enter para generar un codigo o escriba Exit para finalizar \n"
     ]
    },
    {
     "name": "stdout",
     "output_type": "stream",
     "text": [
      "['C3I5L5H6R0K9L9']\n"
     ]
    },
    {
     "name": "stdin",
     "output_type": "stream",
     "text": [
      "Presione Enter para generar un codigo o escriba Exit para finalizar EXIT\n"
     ]
    },
    {
     "name": "stdout",
     "output_type": "stream",
     "text": [
      "Codigo Valido: {'40': 'H6F7E3D3M9A6Y6', '37': 'C3I5L5H6R0K9L9'}\n",
      "Codigo No Valido: ['H4Z0A5V0W6H4Q9', 'F7V2P0D2M8P1K4', 'O2O2O2Z6E1W7D1', 'Z4N2B4X5L7H5P0']\n"
     ]
    }
   ],
   "source": [
    "apertura = input(\"Presione Enter para generar un codigo o escriba Exit para finalizar\").casefold()\n",
    "fin = 'exit'\n",
    "acumulado_valido1 = []\n",
    "acumulado_valido2 = []\n",
    "acumulado_nvalido = []\n",
    "Letras = []\n",
    "strLetras = 'ABCDEFGHIJKLMNOPQRSTUVWXYZ'\n",
    "Letras.extend(strLetras)\n",
    "strSalida = ''\n",
    "while(apertura != fin):\n",
    "  \n",
    "    for i in range(0, 7, 1):\n",
    "      alLetras =random.randint(0,len(Letras)-1)\n",
    "      alNums =random.randint(0, 9)\n",
    "      strSalida = strSalida + Letras[alLetras]+ str(alNums)    \n",
    "    digitos = list(map(lambda d: int(d), list(filter(lambda c: c in '0123456789',strSalida))))\n",
    "    suma = str(sum(digitos))\n",
    "    valido1 = [suma]\n",
    "    valido2 = [strSalida]\n",
    "    Nvalido =list([strSalida])\n",
    "    if sum(digitos) > 30:\n",
    "      for j in valido1:\n",
    "        acumulado_valido1.append(j)   \n",
    "      for l in valido2:\n",
    "        acumulado_valido2.append(l)\n",
    "      print(valido2)\n",
    "      Codigo_Valido = (dict(zip(acumulado_valido1 , acumulado_valido2)))\n",
    "    else:\n",
    "      sum(digitos) <= 30\n",
    "      for m in Nvalido:\n",
    "        acumulado_nvalido.append(m)\n",
    "      print(Nvalido)\n",
    "      Codigo_No_Valido = (list(acumulado_nvalido))\n",
    "    strSalida = ''\n",
    "    apertura = input(\"Presione Enter para generar un codigo o escriba Exit para finalizar\").casefold()\n",
    "print(F\"Codigo Valido: {Codigo_Valido}\")\n",
    "print(F\"Codigo No Valido: {Codigo_No_Valido}\")"
   ]
  },
  {
   "cell_type": "code",
   "execution_count": null,
   "id": "9b53f80b-1887-464a-824c-ccfc370cb751",
   "metadata": {},
   "outputs": [],
   "source": []
  }
 ],
 "metadata": {
  "kernelspec": {
   "display_name": "Python 3 (ipykernel)",
   "language": "python",
   "name": "python3"
  },
  "language_info": {
   "codemirror_mode": {
    "name": "ipython",
    "version": 3
   },
   "file_extension": ".py",
   "mimetype": "text/x-python",
   "name": "python",
   "nbconvert_exporter": "python",
   "pygments_lexer": "ipython3",
   "version": "3.9.7"
  }
 },
 "nbformat": 4,
 "nbformat_minor": 5
}
